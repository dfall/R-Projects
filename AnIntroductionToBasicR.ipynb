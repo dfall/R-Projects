{
 "cells": [
  {
   "cell_type": "markdown",
   "metadata": {},
   "source": [
    "# AN INTRODUCTION TO BASIC R"
   ]
  },
  {
   "cell_type": "markdown",
   "metadata": {},
   "source": [
    "* **Install R: http://archive.linux.duke.edu/cran/**\n",
    "* **Install Jupyter (iPython Notebook): http://continuum.io/downloads**\n",
    "* **Install the R kernel for Jupyter: https://github.com/IRkernel/IRkernel**"
   ]
  },
  {
   "cell_type": "markdown",
   "metadata": {},
   "source": [
    "[1. Arithmetic & Logical Operations](#1)\n",
    "\n",
    "[2. Vectors & Matrices in R](#2)\n",
    "\n",
    "[3. Element-Wise Operations](#3)\n",
    "\n",
    "[4. Data Frames](#4)\n",
    "\n",
    "[5. Build-In Data Sets & Elementary Visualizations](#5)"
   ]
  },
  {
   "cell_type": "markdown",
   "metadata": {},
   "source": [
    "<a id='1'></a>\n",
    "## 1. Arithmetic & Logical Operations"
   ]
  },
  {
   "cell_type": "code",
   "execution_count": 1,
   "metadata": {
    "collapsed": false
   },
   "outputs": [
    {
     "data": {
      "text/html": [
       "5"
      ],
      "text/latex": [
       "5"
      ],
      "text/markdown": [
       "5"
      ],
      "text/plain": [
       "[1] 5"
      ]
     },
     "metadata": {},
     "output_type": "display_data"
    },
    {
     "data": {
      "text/html": [
       "-1"
      ],
      "text/latex": [
       "-1"
      ],
      "text/markdown": [
       "-1"
      ],
      "text/plain": [
       "[1] -1"
      ]
     },
     "metadata": {},
     "output_type": "display_data"
    },
    {
     "data": {
      "text/html": [
       "6"
      ],
      "text/latex": [
       "6"
      ],
      "text/markdown": [
       "6"
      ],
      "text/plain": [
       "[1] 6"
      ]
     },
     "metadata": {},
     "output_type": "display_data"
    },
    {
     "data": {
      "text/html": [
       "8"
      ],
      "text/latex": [
       "8"
      ],
      "text/markdown": [
       "8"
      ],
      "text/plain": [
       "[1] 8"
      ]
     },
     "metadata": {},
     "output_type": "display_data"
    },
    {
     "data": {
      "text/html": [
       "8"
      ],
      "text/latex": [
       "8"
      ],
      "text/markdown": [
       "8"
      ],
      "text/plain": [
       "[1] 8"
      ]
     },
     "metadata": {},
     "output_type": "display_data"
    },
    {
     "data": {
      "text/html": [
       "0.666666666666667"
      ],
      "text/latex": [
       "0.666666666666667"
      ],
      "text/markdown": [
       "0.666666666666667"
      ],
      "text/plain": [
       "[1] 0.6666667"
      ]
     },
     "metadata": {},
     "output_type": "display_data"
    },
    {
     "data": {
      "text/html": [
       "6"
      ],
      "text/latex": [
       "6"
      ],
      "text/markdown": [
       "6"
      ],
      "text/plain": [
       "[1] 6"
      ]
     },
     "metadata": {},
     "output_type": "display_data"
    },
    {
     "data": {
      "text/html": [
       "3"
      ],
      "text/latex": [
       "3"
      ],
      "text/markdown": [
       "3"
      ],
      "text/plain": [
       "[1] 3"
      ]
     },
     "metadata": {},
     "output_type": "display_data"
    }
   ],
   "source": [
    "2 + 3     # addition\n",
    "2 - 3     # subtraction\n",
    "2*3       # multiplication\n",
    "2**3      # power\n",
    "2^3       # power\n",
    "2/3       # division\n",
    "33 %/% 5  # integer division\n",
    "33 %% 5   # modulo (remainder of division)"
   ]
  },
  {
   "cell_type": "code",
   "execution_count": 2,
   "metadata": {
    "collapsed": false
   },
   "outputs": [
    {
     "data": {
      "text/html": [
       "3"
      ],
      "text/latex": [
       "3"
      ],
      "text/markdown": [
       "3"
      ],
      "text/plain": [
       "[1] 3"
      ]
     },
     "metadata": {},
     "output_type": "display_data"
    },
    {
     "data": {
      "text/html": [
       "1.73205080756888"
      ],
      "text/latex": [
       "1.73205080756888"
      ],
      "text/markdown": [
       "1.73205080756888"
      ],
      "text/plain": [
       "[1] 1.732051"
      ]
     },
     "metadata": {},
     "output_type": "display_data"
    }
   ],
   "source": [
    "a <- 3    # assignment\n",
    "a\n",
    "b <- sqrt(a)\n",
    "b"
   ]
  },
  {
   "cell_type": "code",
   "execution_count": 3,
   "metadata": {
    "collapsed": false
   },
   "outputs": [
    {
     "data": {
      "text/html": [
       "FALSE"
      ],
      "text/latex": [
       "FALSE"
      ],
      "text/markdown": [
       "FALSE"
      ],
      "text/plain": [
       "[1] FALSE"
      ]
     },
     "metadata": {},
     "output_type": "display_data"
    },
    {
     "data": {
      "text/html": [
       "TRUE"
      ],
      "text/latex": [
       "TRUE"
      ],
      "text/markdown": [
       "TRUE"
      ],
      "text/plain": [
       "[1] TRUE"
      ]
     },
     "metadata": {},
     "output_type": "display_data"
    }
   ],
   "source": [
    "a == b\n",
    "a != b"
   ]
  },
  {
   "cell_type": "code",
   "execution_count": 4,
   "metadata": {
    "collapsed": false
   },
   "outputs": [
    {
     "data": {
      "text/html": [
       "<ol class=list-inline>\n",
       "\t<li>'a'</li>\n",
       "\t<li>'b'</li>\n",
       "</ol>\n"
      ],
      "text/latex": [
       "\\begin{enumerate*}\n",
       "\\item 'a'\n",
       "\\item 'b'\n",
       "\\end{enumerate*}\n"
      ],
      "text/markdown": [
       "1. 'a'\n",
       "2. 'b'\n",
       "\n",
       "\n"
      ],
      "text/plain": [
       "[1] \"a\" \"b\""
      ]
     },
     "metadata": {},
     "output_type": "display_data"
    },
    {
     "name": "stderr",
     "output_type": "stream",
     "text": [
      "starting httpd help server ... done\n"
     ]
    },
    {
     "name": "stdout",
     "output_type": "stream",
     "text": [
      "If the browser launched by 'xdg-open' is already running, it is *not*\n",
      "    restarted, and you must switch to its window.\n",
      "Otherwise, be patient ...\n"
     ]
    },
    {
     "data": {},
     "metadata": {},
     "output_type": "display_data"
    },
    {
     "data": {
      "text/html": [
       "<ol class=list-inline>\n",
       "\t<li>'chisq.test'</li>\n",
       "\t<li>'dchisq'</li>\n",
       "\t<li>'pchisq'</li>\n",
       "\t<li>'qchisq'</li>\n",
       "\t<li>'rchisq'</li>\n",
       "\t<li>'sqrt'</li>\n",
       "\t<li>'sQuote'</li>\n",
       "</ol>\n"
      ],
      "text/latex": [
       "\\begin{enumerate*}\n",
       "\\item 'chisq.test'\n",
       "\\item 'dchisq'\n",
       "\\item 'pchisq'\n",
       "\\item 'qchisq'\n",
       "\\item 'rchisq'\n",
       "\\item 'sqrt'\n",
       "\\item 'sQuote'\n",
       "\\end{enumerate*}\n"
      ],
      "text/markdown": [
       "1. 'chisq.test'\n",
       "2. 'dchisq'\n",
       "3. 'pchisq'\n",
       "4. 'qchisq'\n",
       "5. 'rchisq'\n",
       "6. 'sqrt'\n",
       "7. 'sQuote'\n",
       "\n",
       "\n"
      ],
      "text/plain": [
       "[1] \"chisq.test\" \"dchisq\"     \"pchisq\"     \"qchisq\"     \"rchisq\"    \n",
       "[6] \"sqrt\"       \"sQuote\"    "
      ]
     },
     "metadata": {},
     "output_type": "display_data"
    }
   ],
   "source": [
    "ls()          # list objects in the global environment\n",
    "help.start()  # get help with R generally\n",
    "?sqrt         # get specific help for a function\n",
    "??sqrt        # looking for help pertaining to sqrt\n",
    "apropos(\"sq\") # it's on the tip of my tongue...\n",
    "rm(a)         # remove a single object\n",
    "rm(list=ls()) # remove everything from the environment"
   ]
  },
  {
   "cell_type": "markdown",
   "metadata": {},
   "source": [
    "<a id='2'></a>\n",
    "## 2. Vectors & Matrices in R"
   ]
  },
  {
   "cell_type": "markdown",
   "metadata": {},
   "source": [
    "### Vectors"
   ]
  },
  {
   "cell_type": "code",
   "execution_count": 5,
   "metadata": {
    "collapsed": false
   },
   "outputs": [
    {
     "data": {
      "text/html": [
       "<ol class=list-inline>\n",
       "\t<li>1</li>\n",
       "\t<li>3</li>\n",
       "\t<li>5</li>\n",
       "</ol>\n"
      ],
      "text/latex": [
       "\\begin{enumerate*}\n",
       "\\item 1\n",
       "\\item 3\n",
       "\\item 5\n",
       "\\end{enumerate*}\n"
      ],
      "text/markdown": [
       "1. 1\n",
       "2. 3\n",
       "3. 5\n",
       "\n",
       "\n"
      ],
      "text/plain": [
       "[1] 1 3 5"
      ]
     },
     "metadata": {},
     "output_type": "display_data"
    },
    {
     "data": {
      "text/html": [
       "3"
      ],
      "text/latex": [
       "3"
      ],
      "text/markdown": [
       "3"
      ],
      "text/plain": [
       "[1] 3"
      ]
     },
     "metadata": {},
     "output_type": "display_data"
    },
    {
     "data": {
      "text/html": [
       "<ol class=list-inline>\n",
       "\t<li>'one'</li>\n",
       "\t<li>'three'</li>\n",
       "\t<li>'five'</li>\n",
       "</ol>\n"
      ],
      "text/latex": [
       "\\begin{enumerate*}\n",
       "\\item 'one'\n",
       "\\item 'three'\n",
       "\\item 'five'\n",
       "\\end{enumerate*}\n"
      ],
      "text/markdown": [
       "1. 'one'\n",
       "2. 'three'\n",
       "3. 'five'\n",
       "\n",
       "\n"
      ],
      "text/plain": [
       "[1] \"one\"   \"three\" \"five\" "
      ]
     },
     "metadata": {},
     "output_type": "display_data"
    },
    {
     "data": {
      "text/html": [
       "'three'"
      ],
      "text/latex": [
       "'three'"
      ],
      "text/markdown": [
       "'three'"
      ],
      "text/plain": [
       "[1] \"three\""
      ]
     },
     "metadata": {},
     "output_type": "display_data"
    },
    {
     "data": {
      "text/html": [
       "<ol class=list-inline>\n",
       "\t<li>1</li>\n",
       "\t<li>3</li>\n",
       "\t<li>5</li>\n",
       "\t<li>1</li>\n",
       "\t<li>3</li>\n",
       "\t<li>5</li>\n",
       "</ol>\n"
      ],
      "text/latex": [
       "\\begin{enumerate*}\n",
       "\\item 1\n",
       "\\item 3\n",
       "\\item 5\n",
       "\\item 1\n",
       "\\item 3\n",
       "\\item 5\n",
       "\\end{enumerate*}\n"
      ],
      "text/markdown": [
       "1. 1\n",
       "2. 3\n",
       "3. 5\n",
       "4. 1\n",
       "5. 3\n",
       "6. 5\n",
       "\n",
       "\n"
      ],
      "text/plain": [
       "[1] 1 3 5 1 3 5"
      ]
     },
     "metadata": {},
     "output_type": "display_data"
    },
    {
     "data": {
      "text/html": [
       "<ol class=list-inline>\n",
       "\t<li>'1'</li>\n",
       "\t<li>'3'</li>\n",
       "\t<li>'5'</li>\n",
       "\t<li>'1'</li>\n",
       "\t<li>'3'</li>\n",
       "\t<li>'5'</li>\n",
       "\t<li>'one'</li>\n",
       "\t<li>'three'</li>\n",
       "\t<li>'five'</li>\n",
       "</ol>\n"
      ],
      "text/latex": [
       "\\begin{enumerate*}\n",
       "\\item '1'\n",
       "\\item '3'\n",
       "\\item '5'\n",
       "\\item '1'\n",
       "\\item '3'\n",
       "\\item '5'\n",
       "\\item 'one'\n",
       "\\item 'three'\n",
       "\\item 'five'\n",
       "\\end{enumerate*}\n"
      ],
      "text/markdown": [
       "1. '1'\n",
       "2. '3'\n",
       "3. '5'\n",
       "4. '1'\n",
       "5. '3'\n",
       "6. '5'\n",
       "7. 'one'\n",
       "8. 'three'\n",
       "9. 'five'\n",
       "\n",
       "\n"
      ],
      "text/plain": [
       "[1] \"1\"     \"3\"     \"5\"     \"1\"     \"3\"     \"5\"     \"one\"   \"three\" \"five\" "
      ]
     },
     "metadata": {},
     "output_type": "display_data"
    }
   ],
   "source": [
    "a <- c(1,3,5)                # create a vector by combining values\n",
    "a\n",
    "a[2]                         # select the second element\n",
    "b <- c(\"one\",\"three\",\"five\") # also works with strings\n",
    "b\n",
    "b[2]\n",
    "a <- c(a,a)                  # can apply recursively\n",
    "a\n",
    "a <- c(a,b)                  # mixing types---what happens?\n",
    "a                            # all converted to the same type"
   ]
  },
  {
   "cell_type": "code",
   "execution_count": 6,
   "metadata": {
    "collapsed": false
   },
   "outputs": [
    {
     "data": {
      "text/html": [
       "<ol class=list-inline>\n",
       "\t<li>1</li>\n",
       "\t<li>2</li>\n",
       "\t<li>3</li>\n",
       "\t<li>4</li>\n",
       "\t<li>5</li>\n",
       "</ol>\n"
      ],
      "text/latex": [
       "\\begin{enumerate*}\n",
       "\\item 1\n",
       "\\item 2\n",
       "\\item 3\n",
       "\\item 4\n",
       "\\item 5\n",
       "\\end{enumerate*}\n"
      ],
      "text/markdown": [
       "1. 1\n",
       "2. 2\n",
       "3. 3\n",
       "4. 4\n",
       "5. 5\n",
       "\n",
       "\n"
      ],
      "text/plain": [
       "[1] 1 2 3 4 5"
      ]
     },
     "metadata": {},
     "output_type": "display_data"
    },
    {
     "data": {
      "text/html": [
       "<ol class=list-inline>\n",
       "\t<li>1</li>\n",
       "\t<li>2</li>\n",
       "\t<li>3</li>\n",
       "\t<li>4</li>\n",
       "\t<li>5</li>\n",
       "</ol>\n"
      ],
      "text/latex": [
       "\\begin{enumerate*}\n",
       "\\item 1\n",
       "\\item 2\n",
       "\\item 3\n",
       "\\item 4\n",
       "\\item 5\n",
       "\\end{enumerate*}\n"
      ],
      "text/markdown": [
       "1. 1\n",
       "2. 2\n",
       "3. 3\n",
       "4. 4\n",
       "5. 5\n",
       "\n",
       "\n"
      ],
      "text/plain": [
       "[1] 1 2 3 4 5"
      ]
     },
     "metadata": {},
     "output_type": "display_data"
    },
    {
     "data": {
      "text/html": [
       "<ol class=list-inline>\n",
       "\t<li>TRUE</li>\n",
       "\t<li>TRUE</li>\n",
       "\t<li>TRUE</li>\n",
       "\t<li>TRUE</li>\n",
       "\t<li>TRUE</li>\n",
       "</ol>\n"
      ],
      "text/latex": [
       "\\begin{enumerate*}\n",
       "\\item TRUE\n",
       "\\item TRUE\n",
       "\\item TRUE\n",
       "\\item TRUE\n",
       "\\item TRUE\n",
       "\\end{enumerate*}\n"
      ],
      "text/markdown": [
       "1. TRUE\n",
       "2. TRUE\n",
       "3. TRUE\n",
       "4. TRUE\n",
       "5. TRUE\n",
       "\n",
       "\n"
      ],
      "text/plain": [
       "[1] TRUE TRUE TRUE TRUE TRUE"
      ]
     },
     "metadata": {},
     "output_type": "display_data"
    },
    {
     "data": {
      "text/html": [
       "<ol class=list-inline>\n",
       "\t<li>1</li>\n",
       "\t<li>1</li>\n",
       "\t<li>1</li>\n",
       "\t<li>1</li>\n",
       "\t<li>1</li>\n",
       "</ol>\n"
      ],
      "text/latex": [
       "\\begin{enumerate*}\n",
       "\\item 1\n",
       "\\item 1\n",
       "\\item 1\n",
       "\\item 1\n",
       "\\item 1\n",
       "\\end{enumerate*}\n"
      ],
      "text/markdown": [
       "1. 1\n",
       "2. 1\n",
       "3. 1\n",
       "4. 1\n",
       "5. 1\n",
       "\n",
       "\n"
      ],
      "text/plain": [
       "[1] 1 1 1 1 1"
      ]
     },
     "metadata": {},
     "output_type": "display_data"
    },
    {
     "data": {
      "text/html": [
       "<ol class=list-inline>\n",
       "\t<li>1</li>\n",
       "\t<li>2</li>\n",
       "\t<li>3</li>\n",
       "\t<li>4</li>\n",
       "\t<li>5</li>\n",
       "\t<li>1</li>\n",
       "\t<li>2</li>\n",
       "\t<li>3</li>\n",
       "\t<li>4</li>\n",
       "\t<li>5</li>\n",
       "</ol>\n"
      ],
      "text/latex": [
       "\\begin{enumerate*}\n",
       "\\item 1\n",
       "\\item 2\n",
       "\\item 3\n",
       "\\item 4\n",
       "\\item 5\n",
       "\\item 1\n",
       "\\item 2\n",
       "\\item 3\n",
       "\\item 4\n",
       "\\item 5\n",
       "\\end{enumerate*}\n"
      ],
      "text/markdown": [
       "1. 1\n",
       "2. 2\n",
       "3. 3\n",
       "4. 4\n",
       "5. 5\n",
       "6. 1\n",
       "7. 2\n",
       "8. 3\n",
       "9. 4\n",
       "10. 5\n",
       "\n",
       "\n"
      ],
      "text/plain": [
       " [1] 1 2 3 4 5 1 2 3 4 5"
      ]
     },
     "metadata": {},
     "output_type": "display_data"
    },
    {
     "data": {
      "text/html": [
       "<ol class=list-inline>\n",
       "\t<li>1</li>\n",
       "\t<li>1</li>\n",
       "\t<li>2</li>\n",
       "\t<li>2</li>\n",
       "\t<li>3</li>\n",
       "\t<li>3</li>\n",
       "\t<li>4</li>\n",
       "\t<li>4</li>\n",
       "\t<li>5</li>\n",
       "\t<li>5</li>\n",
       "</ol>\n"
      ],
      "text/latex": [
       "\\begin{enumerate*}\n",
       "\\item 1\n",
       "\\item 1\n",
       "\\item 2\n",
       "\\item 2\n",
       "\\item 3\n",
       "\\item 3\n",
       "\\item 4\n",
       "\\item 4\n",
       "\\item 5\n",
       "\\item 5\n",
       "\\end{enumerate*}\n"
      ],
      "text/markdown": [
       "1. 1\n",
       "2. 1\n",
       "3. 2\n",
       "4. 2\n",
       "5. 3\n",
       "6. 3\n",
       "7. 4\n",
       "8. 4\n",
       "9. 5\n",
       "10. 5\n",
       "\n",
       "\n"
      ],
      "text/plain": [
       " [1] 1 1 2 2 3 3 4 4 5 5"
      ]
     },
     "metadata": {},
     "output_type": "display_data"
    },
    {
     "data": {
      "text/html": [
       "<ol class=list-inline>\n",
       "\t<li>1</li>\n",
       "\t<li>1</li>\n",
       "\t<li>1</li>\n",
       "\t<li>1</li>\n",
       "\t<li>1</li>\n",
       "\t<li>2</li>\n",
       "\t<li>2</li>\n",
       "\t<li>2</li>\n",
       "\t<li>2</li>\n",
       "\t<li>3</li>\n",
       "\t<li>3</li>\n",
       "\t<li>3</li>\n",
       "\t<li>4</li>\n",
       "\t<li>4</li>\n",
       "\t<li>5</li>\n",
       "</ol>\n"
      ],
      "text/latex": [
       "\\begin{enumerate*}\n",
       "\\item 1\n",
       "\\item 1\n",
       "\\item 1\n",
       "\\item 1\n",
       "\\item 1\n",
       "\\item 2\n",
       "\\item 2\n",
       "\\item 2\n",
       "\\item 2\n",
       "\\item 3\n",
       "\\item 3\n",
       "\\item 3\n",
       "\\item 4\n",
       "\\item 4\n",
       "\\item 5\n",
       "\\end{enumerate*}\n"
      ],
      "text/markdown": [
       "1. 1\n",
       "2. 1\n",
       "3. 1\n",
       "4. 1\n",
       "5. 1\n",
       "6. 2\n",
       "7. 2\n",
       "8. 2\n",
       "9. 2\n",
       "10. 3\n",
       "11. 3\n",
       "12. 3\n",
       "13. 4\n",
       "14. 4\n",
       "15. 5\n",
       "\n",
       "\n"
      ],
      "text/plain": [
       " [1] 1 1 1 1 1 2 2 2 2 3 3 3 4 4 5"
      ]
     },
     "metadata": {},
     "output_type": "display_data"
    }
   ],
   "source": [
    "a <- seq(from=1,to=5,by=1) # from 1 to 5 the slow way\n",
    "a\n",
    "b <- 1:5                   # a shortcut!\n",
    "b\n",
    "a==b                       # all TRUE\n",
    "rep(1,times=5)             # a lot of ones\n",
    "rep(1:5,times=2)           # repeat an entire sequence\n",
    "rep(1:5,each=2)            # same, but element-wise\n",
    "rep(1:5,times=5:1)         # can vary the count of each element"
   ]
  },
  {
   "cell_type": "code",
   "execution_count": 7,
   "metadata": {
    "collapsed": false
   },
   "outputs": [
    {
     "data": {
      "text/html": [
       "<ol class=list-inline>\n",
       "\t<li>1</li>\n",
       "\t<li>2</li>\n",
       "\t<li>3</li>\n",
       "\t<li>4</li>\n",
       "\t<li>5</li>\n",
       "</ol>\n"
      ],
      "text/latex": [
       "\\begin{enumerate*}\n",
       "\\item 1\n",
       "\\item 2\n",
       "\\item 3\n",
       "\\item 4\n",
       "\\item 5\n",
       "\\end{enumerate*}\n"
      ],
      "text/markdown": [
       "1. 1\n",
       "2. 2\n",
       "3. 3\n",
       "4. 4\n",
       "5. 5\n",
       "\n",
       "\n"
      ],
      "text/plain": [
       "[1] 1 2 3 4 5"
      ]
     },
     "metadata": {},
     "output_type": "display_data"
    },
    {
     "data": {
      "text/html": [
       "<ol class=list-inline>\n",
       "\t<li>FALSE</li>\n",
       "\t<li>FALSE</li>\n",
       "\t<li>TRUE</li>\n",
       "\t<li>TRUE</li>\n",
       "\t<li>TRUE</li>\n",
       "</ol>\n"
      ],
      "text/latex": [
       "\\begin{enumerate*}\n",
       "\\item FALSE\n",
       "\\item FALSE\n",
       "\\item TRUE\n",
       "\\item TRUE\n",
       "\\item TRUE\n",
       "\\end{enumerate*}\n"
      ],
      "text/markdown": [
       "1. FALSE\n",
       "2. FALSE\n",
       "3. TRUE\n",
       "4. TRUE\n",
       "5. TRUE\n",
       "\n",
       "\n"
      ],
      "text/plain": [
       "[1] FALSE FALSE  TRUE  TRUE  TRUE"
      ]
     },
     "metadata": {},
     "output_type": "display_data"
    },
    {
     "data": {
      "text/html": [
       "TRUE"
      ],
      "text/latex": [
       "TRUE"
      ],
      "text/markdown": [
       "TRUE"
      ],
      "text/plain": [
       "[1] TRUE"
      ]
     },
     "metadata": {},
     "output_type": "display_data"
    },
    {
     "data": {
      "text/html": [
       "FALSE"
      ],
      "text/latex": [
       "FALSE"
      ],
      "text/markdown": [
       "FALSE"
      ],
      "text/plain": [
       "[1] FALSE"
      ]
     },
     "metadata": {},
     "output_type": "display_data"
    },
    {
     "data": {
      "text/html": [
       "<ol class=list-inline>\n",
       "\t<li>3</li>\n",
       "\t<li>4</li>\n",
       "\t<li>5</li>\n",
       "</ol>\n"
      ],
      "text/latex": [
       "\\begin{enumerate*}\n",
       "\\item 3\n",
       "\\item 4\n",
       "\\item 5\n",
       "\\end{enumerate*}\n"
      ],
      "text/markdown": [
       "1. 3\n",
       "2. 4\n",
       "3. 5\n",
       "\n",
       "\n"
      ],
      "text/plain": [
       "[1] 3 4 5"
      ]
     },
     "metadata": {},
     "output_type": "display_data"
    }
   ],
   "source": [
    "a <- 1:5   # create a vector\n",
    "a\n",
    "a>2        # some TRUE, some FALSE\n",
    "any(a>2)   # are any elements TRUE?\n",
    "all(a>2)   # are all elements TRUE?\n",
    "which(a>2) # which indices are TRUE?"
   ]
  },
  {
   "cell_type": "markdown",
   "metadata": {},
   "source": [
    "### Matrices"
   ]
  },
  {
   "cell_type": "code",
   "execution_count": 8,
   "metadata": {
    "collapsed": false
   },
   "outputs": [
    {
     "data": {
      "text/html": [
       "<table>\n",
       "<tbody>\n",
       "\t<tr><td>1 </td><td> 6</td><td>11</td><td>16</td><td>21</td></tr>\n",
       "\t<tr><td>2 </td><td> 7</td><td>12</td><td>17</td><td>22</td></tr>\n",
       "\t<tr><td>3 </td><td> 8</td><td>13</td><td>18</td><td>23</td></tr>\n",
       "\t<tr><td>4 </td><td> 9</td><td>14</td><td>19</td><td>24</td></tr>\n",
       "\t<tr><td>5 </td><td>10</td><td>15</td><td>20</td><td>25</td></tr>\n",
       "</tbody>\n",
       "</table>\n"
      ],
      "text/latex": [
       "\\begin{tabular}{lllll}\n",
       "\t 1  &  6 & 11 & 16 & 21\\\\\n",
       "\t 2  &  7 & 12 & 17 & 22\\\\\n",
       "\t 3  &  8 & 13 & 18 & 23\\\\\n",
       "\t 4  &  9 & 14 & 19 & 24\\\\\n",
       "\t 5  & 10 & 15 & 20 & 25\\\\\n",
       "\\end{tabular}\n"
      ],
      "text/markdown": [
       "1. 1\n",
       "2. 2\n",
       "3. 3\n",
       "4. 4\n",
       "5. 5\n",
       "6. 6\n",
       "7. 7\n",
       "8. 8\n",
       "9. 9\n",
       "10. 10\n",
       "11. 11\n",
       "12. 12\n",
       "13. 13\n",
       "14. 14\n",
       "15. 15\n",
       "16. 16\n",
       "17. 17\n",
       "18. 18\n",
       "19. 19\n",
       "20. 20\n",
       "21. 21\n",
       "22. 22\n",
       "23. 23\n",
       "24. 24\n",
       "25. 25\n",
       "\n",
       "\n"
      ],
      "text/plain": [
       "     [,1] [,2] [,3] [,4] [,5]\n",
       "[1,] 1     6   11   16   21  \n",
       "[2,] 2     7   12   17   22  \n",
       "[3,] 3     8   13   18   23  \n",
       "[4,] 4     9   14   19   24  \n",
       "[5,] 5    10   15   20   25  "
      ]
     },
     "metadata": {},
     "output_type": "display_data"
    },
    {
     "data": {
      "text/html": [
       "6"
      ],
      "text/latex": [
       "6"
      ],
      "text/markdown": [
       "6"
      ],
      "text/plain": [
       "[1] 6"
      ]
     },
     "metadata": {},
     "output_type": "display_data"
    },
    {
     "data": {
      "text/html": [
       "<ol class=list-inline>\n",
       "\t<li>1</li>\n",
       "\t<li>6</li>\n",
       "\t<li>11</li>\n",
       "\t<li>16</li>\n",
       "\t<li>21</li>\n",
       "</ol>\n"
      ],
      "text/latex": [
       "\\begin{enumerate*}\n",
       "\\item 1\n",
       "\\item 6\n",
       "\\item 11\n",
       "\\item 16\n",
       "\\item 21\n",
       "\\end{enumerate*}\n"
      ],
      "text/markdown": [
       "1. 1\n",
       "2. 6\n",
       "3. 11\n",
       "4. 16\n",
       "5. 21\n",
       "\n",
       "\n"
      ],
      "text/plain": [
       "[1]  1  6 11 16 21"
      ]
     },
     "metadata": {},
     "output_type": "display_data"
    },
    {
     "data": {
      "text/html": [
       "TRUE"
      ],
      "text/latex": [
       "TRUE"
      ],
      "text/markdown": [
       "TRUE"
      ],
      "text/plain": [
       "[1] TRUE"
      ]
     },
     "metadata": {},
     "output_type": "display_data"
    },
    {
     "data": {
      "text/html": [
       "<ol class=list-inline>\n",
       "\t<li>6</li>\n",
       "\t<li>7</li>\n",
       "\t<li>8</li>\n",
       "\t<li>9</li>\n",
       "\t<li>10</li>\n",
       "</ol>\n"
      ],
      "text/latex": [
       "\\begin{enumerate*}\n",
       "\\item 6\n",
       "\\item 7\n",
       "\\item 8\n",
       "\\item 9\n",
       "\\item 10\n",
       "\\end{enumerate*}\n"
      ],
      "text/markdown": [
       "1. 6\n",
       "2. 7\n",
       "3. 8\n",
       "4. 9\n",
       "5. 10\n",
       "\n",
       "\n"
      ],
      "text/plain": [
       "[1]  6  7  8  9 10"
      ]
     },
     "metadata": {},
     "output_type": "display_data"
    },
    {
     "data": {
      "text/html": [
       "<table>\n",
       "<tbody>\n",
       "\t<tr><td>12</td><td>17</td><td>22</td></tr>\n",
       "\t<tr><td>13</td><td>18</td><td>23</td></tr>\n",
       "</tbody>\n",
       "</table>\n"
      ],
      "text/latex": [
       "\\begin{tabular}{lll}\n",
       "\t 12 & 17 & 22\\\\\n",
       "\t 13 & 18 & 23\\\\\n",
       "\\end{tabular}\n"
      ],
      "text/markdown": [
       "1. 12\n",
       "2. 13\n",
       "3. 17\n",
       "4. 18\n",
       "5. 22\n",
       "6. 23\n",
       "\n",
       "\n"
      ],
      "text/plain": [
       "     [,1] [,2] [,3]\n",
       "[1,] 12   17   22  \n",
       "[2,] 13   18   23  "
      ]
     },
     "metadata": {},
     "output_type": "display_data"
    },
    {
     "data": {
      "text/html": [
       "<table>\n",
       "<tbody>\n",
       "\t<tr><td>2 </td><td> 7</td><td>12</td><td>17</td><td>22</td></tr>\n",
       "\t<tr><td>3 </td><td> 8</td><td>13</td><td>18</td><td>23</td></tr>\n",
       "\t<tr><td>4 </td><td> 9</td><td>14</td><td>19</td><td>24</td></tr>\n",
       "\t<tr><td>5 </td><td>10</td><td>15</td><td>20</td><td>25</td></tr>\n",
       "</tbody>\n",
       "</table>\n"
      ],
      "text/latex": [
       "\\begin{tabular}{lllll}\n",
       "\t 2  &  7 & 12 & 17 & 22\\\\\n",
       "\t 3  &  8 & 13 & 18 & 23\\\\\n",
       "\t 4  &  9 & 14 & 19 & 24\\\\\n",
       "\t 5  & 10 & 15 & 20 & 25\\\\\n",
       "\\end{tabular}\n"
      ],
      "text/markdown": [
       "1. 2\n",
       "2. 3\n",
       "3. 4\n",
       "4. 5\n",
       "5. 7\n",
       "6. 8\n",
       "7. 9\n",
       "8. 10\n",
       "9. 12\n",
       "10. 13\n",
       "11. 14\n",
       "12. 15\n",
       "13. 17\n",
       "14. 18\n",
       "15. 19\n",
       "16. 20\n",
       "17. 22\n",
       "18. 23\n",
       "19. 24\n",
       "20. 25\n",
       "\n",
       "\n"
      ],
      "text/plain": [
       "     [,1] [,2] [,3] [,4] [,5]\n",
       "[1,] 2     7   12   17   22  \n",
       "[2,] 3     8   13   18   23  \n",
       "[3,] 4     9   14   19   24  \n",
       "[4,] 5    10   15   20   25  "
      ]
     },
     "metadata": {},
     "output_type": "display_data"
    },
    {
     "data": {
      "text/html": [
       "<table>\n",
       "<tbody>\n",
       "\t<tr><td>1 </td><td>11</td><td>16</td><td>21</td></tr>\n",
       "\t<tr><td>3 </td><td>13</td><td>18</td><td>23</td></tr>\n",
       "\t<tr><td>4 </td><td>14</td><td>19</td><td>24</td></tr>\n",
       "\t<tr><td>5 </td><td>15</td><td>20</td><td>25</td></tr>\n",
       "</tbody>\n",
       "</table>\n"
      ],
      "text/latex": [
       "\\begin{tabular}{llll}\n",
       "\t 1  & 11 & 16 & 21\\\\\n",
       "\t 3  & 13 & 18 & 23\\\\\n",
       "\t 4  & 14 & 19 & 24\\\\\n",
       "\t 5  & 15 & 20 & 25\\\\\n",
       "\\end{tabular}\n"
      ],
      "text/markdown": [
       "1. 1\n",
       "2. 3\n",
       "3. 4\n",
       "4. 5\n",
       "5. 11\n",
       "6. 13\n",
       "7. 14\n",
       "8. 15\n",
       "9. 16\n",
       "10. 18\n",
       "11. 19\n",
       "12. 20\n",
       "13. 21\n",
       "14. 23\n",
       "15. 24\n",
       "16. 25\n",
       "\n",
       "\n"
      ],
      "text/plain": [
       "     [,1] [,2] [,3] [,4]\n",
       "[1,] 1    11   16   21  \n",
       "[2,] 3    13   18   23  \n",
       "[3,] 4    14   19   24  \n",
       "[4,] 5    15   20   25  "
      ]
     },
     "metadata": {},
     "output_type": "display_data"
    }
   ],
   "source": [
    "a <- matrix(data=1:25, nrow=5, ncol=5) # create a matrix the \"formal\" way\n",
    "a\n",
    "a[1,2]                                 # select a matrix element (two dimensions)\n",
    "a[1,]                                  # just the first row\n",
    "all(a[1,]==a[1,1:5])                   # show the equivalence\n",
    "a[,2]                                  # can also perform for columns\n",
    "a[2:3,3:5]                             # select submatrices\n",
    "a[-1,]                                 # nice trick: negative numbers omit cells!\n",
    "a[-2,-2]                               # get rid of row two, column two"
   ]
  },
  {
   "cell_type": "code",
   "execution_count": 9,
   "metadata": {
    "collapsed": false,
    "scrolled": false
   },
   "outputs": [
    {
     "data": {
      "text/html": [
       "<table>\n",
       "<tbody>\n",
       "\t<tr><td>1</td><td>1</td></tr>\n",
       "\t<tr><td>2</td><td>2</td></tr>\n",
       "\t<tr><td>3</td><td>3</td></tr>\n",
       "\t<tr><td>4</td><td>4</td></tr>\n",
       "\t<tr><td>5</td><td>5</td></tr>\n",
       "</tbody>\n",
       "</table>\n"
      ],
      "text/latex": [
       "\\begin{tabular}{ll}\n",
       "\t 1 & 1\\\\\n",
       "\t 2 & 2\\\\\n",
       "\t 3 & 3\\\\\n",
       "\t 4 & 4\\\\\n",
       "\t 5 & 5\\\\\n",
       "\\end{tabular}\n"
      ],
      "text/markdown": [
       "1. 1\n",
       "2. 2\n",
       "3. 3\n",
       "4. 4\n",
       "5. 5\n",
       "6. 1\n",
       "7. 2\n",
       "8. 3\n",
       "9. 4\n",
       "10. 5\n",
       "\n",
       "\n"
      ],
      "text/plain": [
       "     [,1] [,2]\n",
       "[1,] 1    1   \n",
       "[2,] 2    2   \n",
       "[3,] 3    3   \n",
       "[4,] 4    4   \n",
       "[5,] 5    5   "
      ]
     },
     "metadata": {},
     "output_type": "display_data"
    },
    {
     "data": {
      "text/html": [
       "<table>\n",
       "<tbody>\n",
       "\t<tr><td>1</td><td>2</td><td>3</td><td>4</td><td>5</td></tr>\n",
       "\t<tr><td>1</td><td>2</td><td>3</td><td>4</td><td>5</td></tr>\n",
       "</tbody>\n",
       "</table>\n"
      ],
      "text/latex": [
       "\\begin{tabular}{lllll}\n",
       "\t 1 & 2 & 3 & 4 & 5\\\\\n",
       "\t 1 & 2 & 3 & 4 & 5\\\\\n",
       "\\end{tabular}\n"
      ],
      "text/markdown": [
       "1. 1\n",
       "2. 1\n",
       "3. 2\n",
       "4. 2\n",
       "5. 3\n",
       "6. 3\n",
       "7. 4\n",
       "8. 4\n",
       "9. 5\n",
       "10. 5\n",
       "\n",
       "\n"
      ],
      "text/plain": [
       "     [,1] [,2] [,3] [,4] [,5]\n",
       "[1,] 1    2    3    4    5   \n",
       "[2,] 1    2    3    4    5   "
      ]
     },
     "metadata": {},
     "output_type": "display_data"
    },
    {
     "data": {
      "text/html": [
       "<ol class=list-inline>\n",
       "\t<li>5</li>\n",
       "\t<li>2</li>\n",
       "</ol>\n"
      ],
      "text/latex": [
       "\\begin{enumerate*}\n",
       "\\item 5\n",
       "\\item 2\n",
       "\\end{enumerate*}\n"
      ],
      "text/markdown": [
       "1. 5\n",
       "2. 2\n",
       "\n",
       "\n"
      ],
      "text/plain": [
       "[1] 5 2"
      ]
     },
     "metadata": {},
     "output_type": "display_data"
    },
    {
     "data": {
      "text/html": [
       "<ol class=list-inline>\n",
       "\t<li>2</li>\n",
       "\t<li>5</li>\n",
       "</ol>\n"
      ],
      "text/latex": [
       "\\begin{enumerate*}\n",
       "\\item 2\n",
       "\\item 5\n",
       "\\end{enumerate*}\n"
      ],
      "text/markdown": [
       "1. 2\n",
       "2. 5\n",
       "\n",
       "\n"
      ],
      "text/plain": [
       "[1] 2 5"
      ]
     },
     "metadata": {},
     "output_type": "display_data"
    },
    {
     "data": {
      "text/html": [
       "5"
      ],
      "text/latex": [
       "5"
      ],
      "text/markdown": [
       "5"
      ],
      "text/plain": [
       "[1] 5"
      ]
     },
     "metadata": {},
     "output_type": "display_data"
    },
    {
     "data": {
      "text/html": [
       "2"
      ],
      "text/latex": [
       "2"
      ],
      "text/markdown": [
       "2"
      ],
      "text/plain": [
       "[1] 2"
      ]
     },
     "metadata": {},
     "output_type": "display_data"
    },
    {
     "data": {
      "text/html": [
       "<table>\n",
       "<tbody>\n",
       "\t<tr><td>1</td><td>1</td><td>1</td><td>1</td></tr>\n",
       "\t<tr><td>2</td><td>2</td><td>2</td><td>2</td></tr>\n",
       "\t<tr><td>3</td><td>3</td><td>3</td><td>3</td></tr>\n",
       "\t<tr><td>4</td><td>4</td><td>4</td><td>4</td></tr>\n",
       "\t<tr><td>5</td><td>5</td><td>5</td><td>5</td></tr>\n",
       "</tbody>\n",
       "</table>\n"
      ],
      "text/latex": [
       "\\begin{tabular}{llll}\n",
       "\t 1 & 1 & 1 & 1\\\\\n",
       "\t 2 & 2 & 2 & 2\\\\\n",
       "\t 3 & 3 & 3 & 3\\\\\n",
       "\t 4 & 4 & 4 & 4\\\\\n",
       "\t 5 & 5 & 5 & 5\\\\\n",
       "\\end{tabular}\n"
      ],
      "text/markdown": [
       "1. 1\n",
       "2. 2\n",
       "3. 3\n",
       "4. 4\n",
       "5. 5\n",
       "6. 1\n",
       "7. 2\n",
       "8. 3\n",
       "9. 4\n",
       "10. 5\n",
       "11. 1\n",
       "12. 2\n",
       "13. 3\n",
       "14. 4\n",
       "15. 5\n",
       "16. 1\n",
       "17. 2\n",
       "18. 3\n",
       "19. 4\n",
       "20. 5\n",
       "\n",
       "\n"
      ],
      "text/plain": [
       "     [,1] [,2] [,3] [,4]\n",
       "[1,] 1    1    1    1   \n",
       "[2,] 2    2    2    2   \n",
       "[3,] 3    3    3    3   \n",
       "[4,] 4    4    4    4   \n",
       "[5,] 5    5    5    5   "
      ]
     },
     "metadata": {},
     "output_type": "display_data"
    }
   ],
   "source": [
    "b <- cbind(1:5,1:5) # another way to create matrices\n",
    "b\n",
    "d <- rbind(1:5,1:5) # can perform with rows, too\n",
    "d\n",
    "# cbind(b,d)          # no go: must have compatible dimensions!\n",
    "dim(b)              # what were those dimensions, anyway?\n",
    "dim(d)\n",
    "NROW(b)\n",
    "NCOL(b)\n",
    "cbind(b,b)         # combining two matrices"
   ]
  },
  {
   "cell_type": "code",
   "execution_count": 10,
   "metadata": {
    "collapsed": false
   },
   "outputs": [
    {
     "data": {
      "text/html": [
       "<table>\n",
       "<tbody>\n",
       "\t<tr><td>1</td><td>1</td></tr>\n",
       "\t<tr><td>2</td><td>2</td></tr>\n",
       "\t<tr><td>3</td><td>3</td></tr>\n",
       "\t<tr><td>4</td><td>4</td></tr>\n",
       "\t<tr><td>5</td><td>5</td></tr>\n",
       "</tbody>\n",
       "</table>\n"
      ],
      "text/latex": [
       "\\begin{tabular}{ll}\n",
       "\t 1 & 1\\\\\n",
       "\t 2 & 2\\\\\n",
       "\t 3 & 3\\\\\n",
       "\t 4 & 4\\\\\n",
       "\t 5 & 5\\\\\n",
       "\\end{tabular}\n"
      ],
      "text/markdown": [
       "1. 1\n",
       "2. 2\n",
       "3. 3\n",
       "4. 4\n",
       "5. 5\n",
       "6. 1\n",
       "7. 2\n",
       "8. 3\n",
       "9. 4\n",
       "10. 5\n",
       "\n",
       "\n"
      ],
      "text/plain": [
       "     [,1] [,2]\n",
       "[1,] 1    1   \n",
       "[2,] 2    2   \n",
       "[3,] 3    3   \n",
       "[4,] 4    4   \n",
       "[5,] 5    5   "
      ]
     },
     "metadata": {},
     "output_type": "display_data"
    },
    {
     "data": {
      "text/html": [
       "<table>\n",
       "<tbody>\n",
       "\t<tr><td>1</td><td>2</td><td>3</td><td>4</td><td>5</td></tr>\n",
       "\t<tr><td>1</td><td>2</td><td>3</td><td>4</td><td>5</td></tr>\n",
       "</tbody>\n",
       "</table>\n"
      ],
      "text/latex": [
       "\\begin{tabular}{lllll}\n",
       "\t 1 & 2 & 3 & 4 & 5\\\\\n",
       "\t 1 & 2 & 3 & 4 & 5\\\\\n",
       "\\end{tabular}\n"
      ],
      "text/markdown": [
       "1. 1\n",
       "2. 1\n",
       "3. 2\n",
       "4. 2\n",
       "5. 3\n",
       "6. 3\n",
       "7. 4\n",
       "8. 4\n",
       "9. 5\n",
       "10. 5\n",
       "\n",
       "\n"
      ],
      "text/plain": [
       "     [,1] [,2] [,3] [,4] [,5]\n",
       "[1,] 1    2    3    4    5   \n",
       "[2,] 1    2    3    4    5   "
      ]
     },
     "metadata": {},
     "output_type": "display_data"
    },
    {
     "data": {
      "text/html": [
       "<table>\n",
       "<tbody>\n",
       "\t<tr><td>1</td><td>2</td><td>3</td><td>4</td><td>5</td><td>1</td><td>2</td><td>3</td><td>4</td><td>5</td></tr>\n",
       "\t<tr><td>1</td><td>2</td><td>3</td><td>4</td><td>5</td><td>1</td><td>2</td><td>3</td><td>4</td><td>5</td></tr>\n",
       "</tbody>\n",
       "</table>\n"
      ],
      "text/latex": [
       "\\begin{tabular}{llllllllll}\n",
       "\t 1 & 2 & 3 & 4 & 5 & 1 & 2 & 3 & 4 & 5\\\\\n",
       "\t 1 & 2 & 3 & 4 & 5 & 1 & 2 & 3 & 4 & 5\\\\\n",
       "\\end{tabular}\n"
      ],
      "text/markdown": [
       "1. 1\n",
       "2. 1\n",
       "3. 2\n",
       "4. 2\n",
       "5. 3\n",
       "6. 3\n",
       "7. 4\n",
       "8. 4\n",
       "9. 5\n",
       "10. 5\n",
       "11. 1\n",
       "12. 1\n",
       "13. 2\n",
       "14. 2\n",
       "15. 3\n",
       "16. 3\n",
       "17. 4\n",
       "18. 4\n",
       "19. 5\n",
       "20. 5\n",
       "\n",
       "\n"
      ],
      "text/plain": [
       "     [,1] [,2] [,3] [,4] [,5] [,6] [,7] [,8] [,9] [,10]\n",
       "[1,] 1    2    3    4    5    1    2    3    4    5    \n",
       "[2,] 1    2    3    4    5    1    2    3    4    5    "
      ]
     },
     "metadata": {},
     "output_type": "display_data"
    },
    {
     "data": {
      "text/html": [
       "<table>\n",
       "<tbody>\n",
       "\t<tr><td>1</td><td>2</td><td>3</td><td>4</td><td>5</td></tr>\n",
       "\t<tr><td>1</td><td>2</td><td>3</td><td>4</td><td>5</td></tr>\n",
       "\t<tr><td>1</td><td>2</td><td>3</td><td>4</td><td>5</td></tr>\n",
       "\t<tr><td>1</td><td>2</td><td>3</td><td>4</td><td>5</td></tr>\n",
       "</tbody>\n",
       "</table>\n"
      ],
      "text/latex": [
       "\\begin{tabular}{lllll}\n",
       "\t 1 & 2 & 3 & 4 & 5\\\\\n",
       "\t 1 & 2 & 3 & 4 & 5\\\\\n",
       "\t 1 & 2 & 3 & 4 & 5\\\\\n",
       "\t 1 & 2 & 3 & 4 & 5\\\\\n",
       "\\end{tabular}\n"
      ],
      "text/markdown": [
       "1. 1\n",
       "2. 1\n",
       "3. 1\n",
       "4. 1\n",
       "5. 2\n",
       "6. 2\n",
       "7. 2\n",
       "8. 2\n",
       "9. 3\n",
       "10. 3\n",
       "11. 3\n",
       "12. 3\n",
       "13. 4\n",
       "14. 4\n",
       "15. 4\n",
       "16. 4\n",
       "17. 5\n",
       "18. 5\n",
       "19. 5\n",
       "20. 5\n",
       "\n",
       "\n"
      ],
      "text/plain": [
       "     [,1] [,2] [,3] [,4] [,5]\n",
       "[1,] 1    2    3    4    5   \n",
       "[2,] 1    2    3    4    5   \n",
       "[3,] 1    2    3    4    5   \n",
       "[4,] 1    2    3    4    5   "
      ]
     },
     "metadata": {},
     "output_type": "display_data"
    }
   ],
   "source": [
    "b\n",
    "t(b)          # transpose b\n",
    "cbind(t(b),d) # now it works\n",
    "rbind(t(b),d) # now it works"
   ]
  },
  {
   "cell_type": "markdown",
   "metadata": {},
   "source": [
    "<a id='3'></a>\n",
    "## 3. Element-Wise Operations"
   ]
  },
  {
   "cell_type": "code",
   "execution_count": 11,
   "metadata": {
    "collapsed": false
   },
   "outputs": [
    {
     "data": {
      "text/html": [
       "<ol class=list-inline>\n",
       "\t<li>1</li>\n",
       "\t<li>2</li>\n",
       "\t<li>3</li>\n",
       "\t<li>4</li>\n",
       "\t<li>5</li>\n",
       "</ol>\n"
      ],
      "text/latex": [
       "\\begin{enumerate*}\n",
       "\\item 1\n",
       "\\item 2\n",
       "\\item 3\n",
       "\\item 4\n",
       "\\item 5\n",
       "\\end{enumerate*}\n"
      ],
      "text/markdown": [
       "1. 1\n",
       "2. 2\n",
       "3. 3\n",
       "4. 4\n",
       "5. 5\n",
       "\n",
       "\n"
      ],
      "text/plain": [
       "[1] 1 2 3 4 5"
      ]
     },
     "metadata": {},
     "output_type": "display_data"
    },
    {
     "data": {
      "text/html": [
       "<ol class=list-inline>\n",
       "\t<li>2</li>\n",
       "\t<li>3</li>\n",
       "\t<li>4</li>\n",
       "\t<li>5</li>\n",
       "\t<li>6</li>\n",
       "</ol>\n"
      ],
      "text/latex": [
       "\\begin{enumerate*}\n",
       "\\item 2\n",
       "\\item 3\n",
       "\\item 4\n",
       "\\item 5\n",
       "\\item 6\n",
       "\\end{enumerate*}\n"
      ],
      "text/markdown": [
       "1. 2\n",
       "2. 3\n",
       "3. 4\n",
       "4. 5\n",
       "5. 6\n",
       "\n",
       "\n"
      ],
      "text/plain": [
       "[1] 2 3 4 5 6"
      ]
     },
     "metadata": {},
     "output_type": "display_data"
    },
    {
     "data": {
      "text/html": [
       "<ol class=list-inline>\n",
       "\t<li>2</li>\n",
       "\t<li>4</li>\n",
       "\t<li>6</li>\n",
       "\t<li>8</li>\n",
       "\t<li>10</li>\n",
       "</ol>\n"
      ],
      "text/latex": [
       "\\begin{enumerate*}\n",
       "\\item 2\n",
       "\\item 4\n",
       "\\item 6\n",
       "\\item 8\n",
       "\\item 10\n",
       "\\end{enumerate*}\n"
      ],
      "text/markdown": [
       "1. 2\n",
       "2. 4\n",
       "3. 6\n",
       "4. 8\n",
       "5. 10\n",
       "\n",
       "\n"
      ],
      "text/plain": [
       "[1]  2  4  6  8 10"
      ]
     },
     "metadata": {},
     "output_type": "display_data"
    },
    {
     "data": {
      "text/html": [
       "<ol class=list-inline>\n",
       "\t<li>0.333333333333333</li>\n",
       "\t<li>0.666666666666667</li>\n",
       "\t<li>1</li>\n",
       "\t<li>1.33333333333333</li>\n",
       "\t<li>1.66666666666667</li>\n",
       "</ol>\n"
      ],
      "text/latex": [
       "\\begin{enumerate*}\n",
       "\\item 0.333333333333333\n",
       "\\item 0.666666666666667\n",
       "\\item 1\n",
       "\\item 1.33333333333333\n",
       "\\item 1.66666666666667\n",
       "\\end{enumerate*}\n"
      ],
      "text/markdown": [
       "1. 0.333333333333333\n",
       "2. 0.666666666666667\n",
       "3. 1\n",
       "4. 1.33333333333333\n",
       "5. 1.66666666666667\n",
       "\n",
       "\n"
      ],
      "text/plain": [
       "[1] 0.3333333 0.6666667 1.0000000 1.3333333 1.6666667"
      ]
     },
     "metadata": {},
     "output_type": "display_data"
    },
    {
     "data": {
      "text/html": [
       "<ol class=list-inline>\n",
       "\t<li>-3</li>\n",
       "\t<li>-2</li>\n",
       "\t<li>-1</li>\n",
       "\t<li>0</li>\n",
       "\t<li>1</li>\n",
       "</ol>\n"
      ],
      "text/latex": [
       "\\begin{enumerate*}\n",
       "\\item -3\n",
       "\\item -2\n",
       "\\item -1\n",
       "\\item 0\n",
       "\\item 1\n",
       "\\end{enumerate*}\n"
      ],
      "text/markdown": [
       "1. -3\n",
       "2. -2\n",
       "3. -1\n",
       "4. 0\n",
       "5. 1\n",
       "\n",
       "\n"
      ],
      "text/plain": [
       "[1] -3 -2 -1  0  1"
      ]
     },
     "metadata": {},
     "output_type": "display_data"
    },
    {
     "data": {
      "text/html": [
       "<ol class=list-inline>\n",
       "\t<li>1</li>\n",
       "\t<li>32</li>\n",
       "\t<li>243</li>\n",
       "\t<li>1024</li>\n",
       "\t<li>3125</li>\n",
       "</ol>\n"
      ],
      "text/latex": [
       "\\begin{enumerate*}\n",
       "\\item 1\n",
       "\\item 32\n",
       "\\item 243\n",
       "\\item 1024\n",
       "\\item 3125\n",
       "\\end{enumerate*}\n"
      ],
      "text/markdown": [
       "1. 1\n",
       "2. 32\n",
       "3. 243\n",
       "4. 1024\n",
       "5. 3125\n",
       "\n",
       "\n"
      ],
      "text/plain": [
       "[1]    1   32  243 1024 3125"
      ]
     },
     "metadata": {},
     "output_type": "display_data"
    },
    {
     "data": {
      "text/html": [
       "<ol class=list-inline>\n",
       "\t<li>2</li>\n",
       "\t<li>4</li>\n",
       "\t<li>6</li>\n",
       "\t<li>8</li>\n",
       "\t<li>10</li>\n",
       "</ol>\n"
      ],
      "text/latex": [
       "\\begin{enumerate*}\n",
       "\\item 2\n",
       "\\item 4\n",
       "\\item 6\n",
       "\\item 8\n",
       "\\item 10\n",
       "\\end{enumerate*}\n"
      ],
      "text/markdown": [
       "1. 2\n",
       "2. 4\n",
       "3. 6\n",
       "4. 8\n",
       "5. 10\n",
       "\n",
       "\n"
      ],
      "text/plain": [
       "[1]  2  4  6  8 10"
      ]
     },
     "metadata": {},
     "output_type": "display_data"
    },
    {
     "data": {
      "text/html": [
       "<ol class=list-inline>\n",
       "\t<li>1</li>\n",
       "\t<li>4</li>\n",
       "\t<li>9</li>\n",
       "\t<li>16</li>\n",
       "\t<li>25</li>\n",
       "</ol>\n"
      ],
      "text/latex": [
       "\\begin{enumerate*}\n",
       "\\item 1\n",
       "\\item 4\n",
       "\\item 9\n",
       "\\item 16\n",
       "\\item 25\n",
       "\\end{enumerate*}\n"
      ],
      "text/markdown": [
       "1. 1\n",
       "2. 4\n",
       "3. 9\n",
       "4. 16\n",
       "5. 25\n",
       "\n",
       "\n"
      ],
      "text/plain": [
       "[1]  1  4  9 16 25"
      ]
     },
     "metadata": {},
     "output_type": "display_data"
    },
    {
     "data": {
      "text/html": [
       "<table>\n",
       "<tbody>\n",
       "\t<tr><td>1</td><td>2</td><td>3</td><td>4</td><td>5</td></tr>\n",
       "\t<tr><td>2</td><td>3</td><td>4</td><td>5</td><td>6</td></tr>\n",
       "</tbody>\n",
       "</table>\n"
      ],
      "text/latex": [
       "\\begin{tabular}{lllll}\n",
       "\t 1 & 2 & 3 & 4 & 5\\\\\n",
       "\t 2 & 3 & 4 & 5 & 6\\\\\n",
       "\\end{tabular}\n"
      ],
      "text/markdown": [
       "1. 1\n",
       "2. 2\n",
       "3. 2\n",
       "4. 3\n",
       "5. 3\n",
       "6. 4\n",
       "7. 4\n",
       "8. 5\n",
       "9. 5\n",
       "10. 6\n",
       "\n",
       "\n"
      ],
      "text/plain": [
       "     [,1] [,2] [,3] [,4] [,5]\n",
       "[1,] 1    2    3    4    5   \n",
       "[2,] 2    3    4    5    6   "
      ]
     },
     "metadata": {},
     "output_type": "display_data"
    },
    {
     "data": {
      "text/html": [
       "<table>\n",
       "<tbody>\n",
       "\t<tr><td>3</td><td>4</td><td>5</td><td>6</td><td>7</td></tr>\n",
       "\t<tr><td>4</td><td>5</td><td>6</td><td>7</td><td>8</td></tr>\n",
       "</tbody>\n",
       "</table>\n"
      ],
      "text/latex": [
       "\\begin{tabular}{lllll}\n",
       "\t 3 & 4 & 5 & 6 & 7\\\\\n",
       "\t 4 & 5 & 6 & 7 & 8\\\\\n",
       "\\end{tabular}\n"
      ],
      "text/markdown": [
       "1. 3\n",
       "2. 4\n",
       "3. 4\n",
       "4. 5\n",
       "5. 5\n",
       "6. 6\n",
       "7. 6\n",
       "8. 7\n",
       "9. 7\n",
       "10. 8\n",
       "\n",
       "\n"
      ],
      "text/plain": [
       "     [,1] [,2] [,3] [,4] [,5]\n",
       "[1,] 3    4    5    6    7   \n",
       "[2,] 4    5    6    7    8   "
      ]
     },
     "metadata": {},
     "output_type": "display_data"
    },
    {
     "data": {
      "text/html": [
       "<table>\n",
       "<tbody>\n",
       "\t<tr><td>4 </td><td>6 </td><td> 8</td><td>10</td><td>12</td></tr>\n",
       "\t<tr><td>6 </td><td>8 </td><td>10</td><td>12</td><td>14</td></tr>\n",
       "</tbody>\n",
       "</table>\n"
      ],
      "text/latex": [
       "\\begin{tabular}{lllll}\n",
       "\t 4  & 6  &  8 & 10 & 12\\\\\n",
       "\t 6  & 8  & 10 & 12 & 14\\\\\n",
       "\\end{tabular}\n"
      ],
      "text/markdown": [
       "1. 4\n",
       "2. 6\n",
       "3. 6\n",
       "4. 8\n",
       "5. 8\n",
       "6. 10\n",
       "7. 10\n",
       "8. 12\n",
       "9. 12\n",
       "10. 14\n",
       "\n",
       "\n"
      ],
      "text/plain": [
       "     [,1] [,2] [,3] [,4] [,5]\n",
       "[1,] 4    6     8   10   12  \n",
       "[2,] 6    8    10   12   14  "
      ]
     },
     "metadata": {},
     "output_type": "display_data"
    },
    {
     "data": {
      "text/html": [
       "<table>\n",
       "<tbody>\n",
       "\t<tr><td>0.3333333</td><td>0.5      </td><td>0.6000000</td><td>0.6666667</td><td>0.7142857</td></tr>\n",
       "\t<tr><td>0.5000000</td><td>0.6      </td><td>0.6666667</td><td>0.7142857</td><td>0.7500000</td></tr>\n",
       "</tbody>\n",
       "</table>\n"
      ],
      "text/latex": [
       "\\begin{tabular}{lllll}\n",
       "\t 0.3333333 & 0.5       & 0.6000000 & 0.6666667 & 0.7142857\\\\\n",
       "\t 0.5000000 & 0.6       & 0.6666667 & 0.7142857 & 0.7500000\\\\\n",
       "\\end{tabular}\n"
      ],
      "text/markdown": [
       "1. 0.333333333333333\n",
       "2. 0.5\n",
       "3. 0.5\n",
       "4. 0.6\n",
       "5. 0.6\n",
       "6. 0.666666666666667\n",
       "7. 0.666666666666667\n",
       "8. 0.714285714285714\n",
       "9. 0.714285714285714\n",
       "10. 0.75\n",
       "\n",
       "\n"
      ],
      "text/plain": [
       "     [,1]      [,2] [,3]      [,4]      [,5]     \n",
       "[1,] 0.3333333 0.5  0.6000000 0.6666667 0.7142857\n",
       "[2,] 0.5000000 0.6  0.6666667 0.7142857 0.7500000"
      ]
     },
     "metadata": {},
     "output_type": "display_data"
    }
   ],
   "source": [
    "a <- 1:5\n",
    "a\n",
    "a + 1               # addition\n",
    "a * 2               # multiplication\n",
    "a / 3               # division\n",
    "a - 4               # subtraction\n",
    "a ^ 5               # you get the idea...\n",
    "a + a               # also works on pairs of vectors\n",
    "a * a\n",
    "# a + 1:6             # problem: need same length\n",
    "a <- rbind(1:5,2:6) # same principles apply to matrices\n",
    "a\n",
    "b <- rbind(3:7,4:8)\n",
    "b\n",
    "a + b\n",
    "a / b"
   ]
  },
  {
   "cell_type": "markdown",
   "metadata": {},
   "source": [
    "### Matrix Multiplication"
   ]
  },
  {
   "cell_type": "code",
   "execution_count": 12,
   "metadata": {
    "collapsed": false
   },
   "outputs": [
    {
     "data": {
      "text/html": [
       "<table>\n",
       "<tbody>\n",
       "\t<tr><td>1</td><td>2</td><td>3</td><td>4</td><td>5</td></tr>\n",
       "\t<tr><td>2</td><td>3</td><td>4</td><td>5</td><td>6</td></tr>\n",
       "</tbody>\n",
       "</table>\n"
      ],
      "text/latex": [
       "\\begin{tabular}{lllll}\n",
       "\t 1 & 2 & 3 & 4 & 5\\\\\n",
       "\t 2 & 3 & 4 & 5 & 6\\\\\n",
       "\\end{tabular}\n"
      ],
      "text/markdown": [
       "1. 1\n",
       "2. 2\n",
       "3. 2\n",
       "4. 3\n",
       "5. 3\n",
       "6. 4\n",
       "7. 4\n",
       "8. 5\n",
       "9. 5\n",
       "10. 6\n",
       "\n",
       "\n"
      ],
      "text/plain": [
       "     [,1] [,2] [,3] [,4] [,5]\n",
       "[1,] 1    2    3    4    5   \n",
       "[2,] 2    3    4    5    6   "
      ]
     },
     "metadata": {},
     "output_type": "display_data"
    },
    {
     "data": {
      "text/html": [
       "<table>\n",
       "<tbody>\n",
       "\t<tr><td>3</td><td>4</td><td>5</td><td>6</td><td>7</td></tr>\n",
       "\t<tr><td>4</td><td>5</td><td>6</td><td>7</td><td>8</td></tr>\n",
       "</tbody>\n",
       "</table>\n"
      ],
      "text/latex": [
       "\\begin{tabular}{lllll}\n",
       "\t 3 & 4 & 5 & 6 & 7\\\\\n",
       "\t 4 & 5 & 6 & 7 & 8\\\\\n",
       "\\end{tabular}\n"
      ],
      "text/markdown": [
       "1. 3\n",
       "2. 4\n",
       "3. 4\n",
       "4. 5\n",
       "5. 5\n",
       "6. 6\n",
       "7. 6\n",
       "8. 7\n",
       "9. 7\n",
       "10. 8\n",
       "\n",
       "\n"
      ],
      "text/plain": [
       "     [,1] [,2] [,3] [,4] [,5]\n",
       "[1,] 3    4    5    6    7   \n",
       "[2,] 4    5    6    7    8   "
      ]
     },
     "metadata": {},
     "output_type": "display_data"
    },
    {
     "data": {
      "text/html": [
       "<table>\n",
       "<tbody>\n",
       "\t<tr><td>3</td><td>4</td></tr>\n",
       "\t<tr><td>4</td><td>5</td></tr>\n",
       "\t<tr><td>5</td><td>6</td></tr>\n",
       "\t<tr><td>6</td><td>7</td></tr>\n",
       "\t<tr><td>7</td><td>8</td></tr>\n",
       "</tbody>\n",
       "</table>\n"
      ],
      "text/latex": [
       "\\begin{tabular}{ll}\n",
       "\t 3 & 4\\\\\n",
       "\t 4 & 5\\\\\n",
       "\t 5 & 6\\\\\n",
       "\t 6 & 7\\\\\n",
       "\t 7 & 8\\\\\n",
       "\\end{tabular}\n"
      ],
      "text/markdown": [
       "1. 3\n",
       "2. 4\n",
       "3. 5\n",
       "4. 6\n",
       "5. 7\n",
       "6. 4\n",
       "7. 5\n",
       "8. 6\n",
       "9. 7\n",
       "10. 8\n",
       "\n",
       "\n"
      ],
      "text/plain": [
       "     [,1] [,2]\n",
       "[1,] 3    4   \n",
       "[2,] 4    5   \n",
       "[3,] 5    6   \n",
       "[4,] 6    7   \n",
       "[5,] 7    8   "
      ]
     },
     "metadata": {},
     "output_type": "display_data"
    },
    {
     "data": {
      "text/html": [
       "<table>\n",
       "<tbody>\n",
       "\t<tr><td> 85</td><td>100</td></tr>\n",
       "\t<tr><td>110</td><td>130</td></tr>\n",
       "</tbody>\n",
       "</table>\n"
      ],
      "text/latex": [
       "\\begin{tabular}{ll}\n",
       "\t  85 & 100\\\\\n",
       "\t 110 & 130\\\\\n",
       "\\end{tabular}\n"
      ],
      "text/markdown": [
       "1. 85\n",
       "2. 110\n",
       "3. 100\n",
       "4. 130\n",
       "\n",
       "\n"
      ],
      "text/plain": [
       "     [,1] [,2]\n",
       "[1,]  85  100 \n",
       "[2,] 110  130 "
      ]
     },
     "metadata": {},
     "output_type": "display_data"
    }
   ],
   "source": [
    "a\n",
    "b\n",
    "t(b)\n",
    "a %*% t(b)     # matrix multiplication"
   ]
  },
  {
   "cell_type": "code",
   "execution_count": 13,
   "metadata": {
    "collapsed": false
   },
   "outputs": [
    {
     "data": {
      "text/html": [
       "'(1) a:'"
      ],
      "text/latex": [
       "'(1) a:'"
      ],
      "text/markdown": [
       "'(1) a:'"
      ],
      "text/plain": [
       "[1] \"(1) a:\""
      ]
     },
     "metadata": {},
     "output_type": "display_data"
    },
    {
     "data": {
      "text/html": [
       "<table>\n",
       "<tbody>\n",
       "\t<tr><td>1</td><td>2</td><td>3</td><td>4</td><td>5</td></tr>\n",
       "\t<tr><td>2</td><td>3</td><td>4</td><td>5</td><td>6</td></tr>\n",
       "</tbody>\n",
       "</table>\n"
      ],
      "text/latex": [
       "\\begin{tabular}{lllll}\n",
       "\t 1 & 2 & 3 & 4 & 5\\\\\n",
       "\t 2 & 3 & 4 & 5 & 6\\\\\n",
       "\\end{tabular}\n"
      ],
      "text/markdown": [
       "1. 1\n",
       "2. 2\n",
       "3. 2\n",
       "4. 3\n",
       "5. 3\n",
       "6. 4\n",
       "7. 4\n",
       "8. 5\n",
       "9. 5\n",
       "10. 6\n",
       "\n",
       "\n"
      ],
      "text/plain": [
       "     [,1] [,2] [,3] [,4] [,5]\n",
       "[1,] 1    2    3    4    5   \n",
       "[2,] 2    3    4    5    6   "
      ]
     },
     "metadata": {},
     "output_type": "display_data"
    },
    {
     "data": {
      "text/html": [
       "'(2) b:'"
      ],
      "text/latex": [
       "'(2) b:'"
      ],
      "text/markdown": [
       "'(2) b:'"
      ],
      "text/plain": [
       "[1] \"(2) b:\""
      ]
     },
     "metadata": {},
     "output_type": "display_data"
    },
    {
     "data": {
      "text/html": [
       "<table>\n",
       "<tbody>\n",
       "\t<tr><td>3</td><td>4</td><td>5</td><td>6</td><td>7</td></tr>\n",
       "\t<tr><td>4</td><td>5</td><td>6</td><td>7</td><td>8</td></tr>\n",
       "</tbody>\n",
       "</table>\n"
      ],
      "text/latex": [
       "\\begin{tabular}{lllll}\n",
       "\t 3 & 4 & 5 & 6 & 7\\\\\n",
       "\t 4 & 5 & 6 & 7 & 8\\\\\n",
       "\\end{tabular}\n"
      ],
      "text/markdown": [
       "1. 3\n",
       "2. 4\n",
       "3. 4\n",
       "4. 5\n",
       "5. 5\n",
       "6. 6\n",
       "7. 6\n",
       "8. 7\n",
       "9. 7\n",
       "10. 8\n",
       "\n",
       "\n"
      ],
      "text/plain": [
       "     [,1] [,2] [,3] [,4] [,5]\n",
       "[1,] 3    4    5    6    7   \n",
       "[2,] 4    5    6    7    8   "
      ]
     },
     "metadata": {},
     "output_type": "display_data"
    },
    {
     "data": {
      "text/html": [
       "'(3) a &gt; 0:'"
      ],
      "text/latex": [
       "'(3) a > 0:'"
      ],
      "text/markdown": [
       "'(3) a &gt; 0:'"
      ],
      "text/plain": [
       "[1] \"(3) a > 0:\""
      ]
     },
     "metadata": {},
     "output_type": "display_data"
    },
    {
     "data": {
      "text/html": [
       "<table>\n",
       "<tbody>\n",
       "\t<tr><td>TRUE</td><td>TRUE</td><td>TRUE</td><td>TRUE</td><td>TRUE</td></tr>\n",
       "\t<tr><td>TRUE</td><td>TRUE</td><td>TRUE</td><td>TRUE</td><td>TRUE</td></tr>\n",
       "</tbody>\n",
       "</table>\n"
      ],
      "text/latex": [
       "\\begin{tabular}{lllll}\n",
       "\t TRUE & TRUE & TRUE & TRUE & TRUE\\\\\n",
       "\t TRUE & TRUE & TRUE & TRUE & TRUE\\\\\n",
       "\\end{tabular}\n"
      ],
      "text/markdown": [
       "1. TRUE\n",
       "2. TRUE\n",
       "3. TRUE\n",
       "4. TRUE\n",
       "5. TRUE\n",
       "6. TRUE\n",
       "7. TRUE\n",
       "8. TRUE\n",
       "9. TRUE\n",
       "10. TRUE\n",
       "\n",
       "\n"
      ],
      "text/plain": [
       "     [,1] [,2] [,3] [,4] [,5]\n",
       "[1,] TRUE TRUE TRUE TRUE TRUE\n",
       "[2,] TRUE TRUE TRUE TRUE TRUE"
      ]
     },
     "metadata": {},
     "output_type": "display_data"
    },
    {
     "data": {
      "text/html": [
       "'(4) a == b:'"
      ],
      "text/latex": [
       "'(4) a == b:'"
      ],
      "text/markdown": [
       "'(4) a == b:'"
      ],
      "text/plain": [
       "[1] \"(4) a == b:\""
      ]
     },
     "metadata": {},
     "output_type": "display_data"
    },
    {
     "data": {
      "text/html": [
       "<table>\n",
       "<tbody>\n",
       "\t<tr><td>FALSE</td><td>FALSE</td><td>FALSE</td><td>FALSE</td><td>FALSE</td></tr>\n",
       "\t<tr><td>FALSE</td><td>FALSE</td><td>FALSE</td><td>FALSE</td><td>FALSE</td></tr>\n",
       "</tbody>\n",
       "</table>\n"
      ],
      "text/latex": [
       "\\begin{tabular}{lllll}\n",
       "\t FALSE & FALSE & FALSE & FALSE & FALSE\\\\\n",
       "\t FALSE & FALSE & FALSE & FALSE & FALSE\\\\\n",
       "\\end{tabular}\n"
      ],
      "text/markdown": [
       "1. FALSE\n",
       "2. FALSE\n",
       "3. FALSE\n",
       "4. FALSE\n",
       "5. FALSE\n",
       "6. FALSE\n",
       "7. FALSE\n",
       "8. FALSE\n",
       "9. FALSE\n",
       "10. FALSE\n",
       "\n",
       "\n"
      ],
      "text/plain": [
       "     [,1]  [,2]  [,3]  [,4]  [,5] \n",
       "[1,] FALSE FALSE FALSE FALSE FALSE\n",
       "[2,] FALSE FALSE FALSE FALSE FALSE"
      ]
     },
     "metadata": {},
     "output_type": "display_data"
    },
    {
     "data": {
      "text/html": [
       "'(5) a != b:'"
      ],
      "text/latex": [
       "'(5) a != b:'"
      ],
      "text/markdown": [
       "'(5) a != b:'"
      ],
      "text/plain": [
       "[1] \"(5) a != b:\""
      ]
     },
     "metadata": {},
     "output_type": "display_data"
    },
    {
     "data": {
      "text/html": [
       "<table>\n",
       "<tbody>\n",
       "\t<tr><td>TRUE</td><td>TRUE</td><td>TRUE</td><td>TRUE</td><td>TRUE</td></tr>\n",
       "\t<tr><td>TRUE</td><td>TRUE</td><td>TRUE</td><td>TRUE</td><td>TRUE</td></tr>\n",
       "</tbody>\n",
       "</table>\n"
      ],
      "text/latex": [
       "\\begin{tabular}{lllll}\n",
       "\t TRUE & TRUE & TRUE & TRUE & TRUE\\\\\n",
       "\t TRUE & TRUE & TRUE & TRUE & TRUE\\\\\n",
       "\\end{tabular}\n"
      ],
      "text/markdown": [
       "1. TRUE\n",
       "2. TRUE\n",
       "3. TRUE\n",
       "4. TRUE\n",
       "5. TRUE\n",
       "6. TRUE\n",
       "7. TRUE\n",
       "8. TRUE\n",
       "9. TRUE\n",
       "10. TRUE\n",
       "\n",
       "\n"
      ],
      "text/plain": [
       "     [,1] [,2] [,3] [,4] [,5]\n",
       "[1,] TRUE TRUE TRUE TRUE TRUE\n",
       "[2,] TRUE TRUE TRUE TRUE TRUE"
      ]
     },
     "metadata": {},
     "output_type": "display_data"
    },
    {
     "data": {
      "text/html": [
       "'(6) !(a == b):'"
      ],
      "text/latex": [
       "'(6) !(a == b):'"
      ],
      "text/markdown": [
       "'(6) !(a == b):'"
      ],
      "text/plain": [
       "[1] \"(6) !(a == b):\""
      ]
     },
     "metadata": {},
     "output_type": "display_data"
    },
    {
     "data": {
      "text/html": [
       "<table>\n",
       "<tbody>\n",
       "\t<tr><td>TRUE</td><td>TRUE</td><td>TRUE</td><td>TRUE</td><td>TRUE</td></tr>\n",
       "\t<tr><td>TRUE</td><td>TRUE</td><td>TRUE</td><td>TRUE</td><td>TRUE</td></tr>\n",
       "</tbody>\n",
       "</table>\n"
      ],
      "text/latex": [
       "\\begin{tabular}{lllll}\n",
       "\t TRUE & TRUE & TRUE & TRUE & TRUE\\\\\n",
       "\t TRUE & TRUE & TRUE & TRUE & TRUE\\\\\n",
       "\\end{tabular}\n"
      ],
      "text/markdown": [
       "1. TRUE\n",
       "2. TRUE\n",
       "3. TRUE\n",
       "4. TRUE\n",
       "5. TRUE\n",
       "6. TRUE\n",
       "7. TRUE\n",
       "8. TRUE\n",
       "9. TRUE\n",
       "10. TRUE\n",
       "\n",
       "\n"
      ],
      "text/plain": [
       "     [,1] [,2] [,3] [,4] [,5]\n",
       "[1,] TRUE TRUE TRUE TRUE TRUE\n",
       "[2,] TRUE TRUE TRUE TRUE TRUE"
      ]
     },
     "metadata": {},
     "output_type": "display_data"
    },
    {
     "data": {
      "text/html": [
       "'(7) OR:'"
      ],
      "text/latex": [
       "'(7) OR:'"
      ],
      "text/markdown": [
       "'(7) OR:'"
      ],
      "text/plain": [
       "[1] \"(7) OR:\""
      ]
     },
     "metadata": {},
     "output_type": "display_data"
    },
    {
     "data": {
      "text/html": [
       "<table>\n",
       "<tbody>\n",
       "\t<tr><td>FALSE</td><td>FALSE</td><td>TRUE </td><td>TRUE </td><td>TRUE </td></tr>\n",
       "\t<tr><td>FALSE</td><td> TRUE</td><td>TRUE </td><td>TRUE </td><td>TRUE </td></tr>\n",
       "</tbody>\n",
       "</table>\n"
      ],
      "text/latex": [
       "\\begin{tabular}{lllll}\n",
       "\t FALSE & FALSE & TRUE  & TRUE  & TRUE \\\\\n",
       "\t FALSE &  TRUE & TRUE  & TRUE  & TRUE \\\\\n",
       "\\end{tabular}\n"
      ],
      "text/markdown": [
       "1. FALSE\n",
       "2. FALSE\n",
       "3. FALSE\n",
       "4. TRUE\n",
       "5. TRUE\n",
       "6. TRUE\n",
       "7. TRUE\n",
       "8. TRUE\n",
       "9. TRUE\n",
       "10. TRUE\n",
       "\n",
       "\n"
      ],
      "text/plain": [
       "     [,1]  [,2]  [,3] [,4] [,5]\n",
       "[1,] FALSE FALSE TRUE TRUE TRUE\n",
       "[2,] FALSE  TRUE TRUE TRUE TRUE"
      ]
     },
     "metadata": {},
     "output_type": "display_data"
    },
    {
     "data": {
      "text/html": [
       "'(8) AND:'"
      ],
      "text/latex": [
       "'(8) AND:'"
      ],
      "text/markdown": [
       "'(8) AND:'"
      ],
      "text/plain": [
       "[1] \"(8) AND:\""
      ]
     },
     "metadata": {},
     "output_type": "display_data"
    },
    {
     "data": {
      "text/html": [
       "<table>\n",
       "<tbody>\n",
       "\t<tr><td>FALSE</td><td>FALSE</td><td>TRUE </td><td>TRUE </td><td>TRUE </td></tr>\n",
       "\t<tr><td>FALSE</td><td> TRUE</td><td>TRUE </td><td>TRUE </td><td>TRUE </td></tr>\n",
       "</tbody>\n",
       "</table>\n"
      ],
      "text/latex": [
       "\\begin{tabular}{lllll}\n",
       "\t FALSE & FALSE & TRUE  & TRUE  & TRUE \\\\\n",
       "\t FALSE &  TRUE & TRUE  & TRUE  & TRUE \\\\\n",
       "\\end{tabular}\n"
      ],
      "text/markdown": [
       "1. FALSE\n",
       "2. FALSE\n",
       "3. FALSE\n",
       "4. TRUE\n",
       "5. TRUE\n",
       "6. TRUE\n",
       "7. TRUE\n",
       "8. TRUE\n",
       "9. TRUE\n",
       "10. TRUE\n",
       "\n",
       "\n"
      ],
      "text/plain": [
       "     [,1]  [,2]  [,3] [,4] [,5]\n",
       "[1,] FALSE FALSE TRUE TRUE TRUE\n",
       "[2,] FALSE  TRUE TRUE TRUE TRUE"
      ]
     },
     "metadata": {},
     "output_type": "display_data"
    },
    {
     "data": {
      "text/html": [
       "'(9) double-pipe:'"
      ],
      "text/latex": [
       "'(9) double-pipe:'"
      ],
      "text/markdown": [
       "'(9) double-pipe:'"
      ],
      "text/plain": [
       "[1] \"(9) double-pipe:\""
      ]
     },
     "metadata": {},
     "output_type": "display_data"
    },
    {
     "data": {
      "text/html": [
       "FALSE"
      ],
      "text/latex": [
       "FALSE"
      ],
      "text/markdown": [
       "FALSE"
      ],
      "text/plain": [
       "[1] FALSE"
      ]
     },
     "metadata": {},
     "output_type": "display_data"
    },
    {
     "data": {
      "text/html": [
       "'(10) double-ampersand:'"
      ],
      "text/latex": [
       "'(10) double-ampersand:'"
      ],
      "text/markdown": [
       "'(10) double-ampersand:'"
      ],
      "text/plain": [
       "[1] \"(10) double-ampersand:\""
      ]
     },
     "metadata": {},
     "output_type": "display_data"
    },
    {
     "data": {
      "text/html": [
       "FALSE"
      ],
      "text/latex": [
       "FALSE"
      ],
      "text/markdown": [
       "FALSE"
      ],
      "text/plain": [
       "[1] FALSE"
      ]
     },
     "metadata": {},
     "output_type": "display_data"
    },
    {
     "data": {
      "text/html": [
       "'(11) log(a):'"
      ],
      "text/latex": [
       "'(11) log(a):'"
      ],
      "text/markdown": [
       "'(11) log(a):'"
      ],
      "text/plain": [
       "[1] \"(11) log(a):\""
      ]
     },
     "metadata": {},
     "output_type": "display_data"
    },
    {
     "data": {
      "text/html": [
       "<table>\n",
       "<tbody>\n",
       "\t<tr><td>0.0000000</td><td>0.6931472</td><td>1.098612 </td><td>1.386294 </td><td>1.609438 </td></tr>\n",
       "\t<tr><td>0.6931472</td><td>1.0986123</td><td>1.386294 </td><td>1.609438 </td><td>1.791759 </td></tr>\n",
       "</tbody>\n",
       "</table>\n"
      ],
      "text/latex": [
       "\\begin{tabular}{lllll}\n",
       "\t 0.0000000 & 0.6931472 & 1.098612  & 1.386294  & 1.609438 \\\\\n",
       "\t 0.6931472 & 1.0986123 & 1.386294  & 1.609438  & 1.791759 \\\\\n",
       "\\end{tabular}\n"
      ],
      "text/markdown": [
       "1. 0\n",
       "2. 0.693147180559945\n",
       "3. 0.693147180559945\n",
       "4. 1.09861228866811\n",
       "5. 1.09861228866811\n",
       "6. 1.38629436111989\n",
       "7. 1.38629436111989\n",
       "8. 1.6094379124341\n",
       "9. 1.6094379124341\n",
       "10. 1.79175946922805\n",
       "\n",
       "\n"
      ],
      "text/plain": [
       "     [,1]      [,2]      [,3]     [,4]     [,5]    \n",
       "[1,] 0.0000000 0.6931472 1.098612 1.386294 1.609438\n",
       "[2,] 0.6931472 1.0986123 1.386294 1.609438 1.791759"
      ]
     },
     "metadata": {},
     "output_type": "display_data"
    },
    {
     "data": {
      "text/html": [
       "'(12) log(b):'"
      ],
      "text/latex": [
       "'(12) log(b):'"
      ],
      "text/markdown": [
       "'(12) log(b):'"
      ],
      "text/plain": [
       "[1] \"(12) log(b):\""
      ]
     },
     "metadata": {},
     "output_type": "display_data"
    },
    {
     "data": {
      "text/html": [
       "<table>\n",
       "<tbody>\n",
       "\t<tr><td>20.08554 </td><td> 54.59815</td><td>148.4132 </td><td> 403.4288</td><td>1096.633 </td></tr>\n",
       "\t<tr><td>54.59815 </td><td>148.41316</td><td>403.4288 </td><td>1096.6332</td><td>2980.958 </td></tr>\n",
       "</tbody>\n",
       "</table>\n"
      ],
      "text/latex": [
       "\\begin{tabular}{lllll}\n",
       "\t 20.08554  &  54.59815 & 148.4132  &  403.4288 & 1096.633 \\\\\n",
       "\t 54.59815  & 148.41316 & 403.4288  & 1096.6332 & 2980.958 \\\\\n",
       "\\end{tabular}\n"
      ],
      "text/markdown": [
       "1. 20.0855369231877\n",
       "2. 54.5981500331442\n",
       "3. 54.5981500331442\n",
       "4. 148.413159102577\n",
       "5. 148.413159102577\n",
       "6. 403.428793492735\n",
       "7. 403.428793492735\n",
       "8. 1096.63315842846\n",
       "9. 1096.63315842846\n",
       "10. 2980.95798704173\n",
       "\n",
       "\n"
      ],
      "text/plain": [
       "     [,1]     [,2]      [,3]     [,4]      [,5]    \n",
       "[1,] 20.08554  54.59815 148.4132  403.4288 1096.633\n",
       "[2,] 54.59815 148.41316 403.4288 1096.6332 2980.958"
      ]
     },
     "metadata": {},
     "output_type": "display_data"
    },
    {
     "data": {
      "text/html": [
       "'(13) sqrt(a+b):'"
      ],
      "text/latex": [
       "'(13) sqrt(a+b):'"
      ],
      "text/markdown": [
       "'(13) sqrt(a+b):'"
      ],
      "text/plain": [
       "[1] \"(13) sqrt(a+b):\""
      ]
     },
     "metadata": {},
     "output_type": "display_data"
    },
    {
     "data": {
      "text/html": [
       "<table>\n",
       "<tbody>\n",
       "\t<tr><td>2.00000 </td><td>2.449490</td><td>2.828427</td><td>3.162278</td><td>3.464102</td></tr>\n",
       "\t<tr><td>2.44949 </td><td>2.828427</td><td>3.162278</td><td>3.464102</td><td>3.741657</td></tr>\n",
       "</tbody>\n",
       "</table>\n"
      ],
      "text/latex": [
       "\\begin{tabular}{lllll}\n",
       "\t 2.00000  & 2.449490 & 2.828427 & 3.162278 & 3.464102\\\\\n",
       "\t 2.44949  & 2.828427 & 3.162278 & 3.464102 & 3.741657\\\\\n",
       "\\end{tabular}\n"
      ],
      "text/markdown": [
       "1. 2\n",
       "2. 2.44948974278318\n",
       "3. 2.44948974278318\n",
       "4. 2.82842712474619\n",
       "5. 2.82842712474619\n",
       "6. 3.16227766016838\n",
       "7. 3.16227766016838\n",
       "8. 3.46410161513775\n",
       "9. 3.46410161513775\n",
       "10. 3.74165738677394\n",
       "\n",
       "\n"
      ],
      "text/plain": [
       "     [,1]    [,2]     [,3]     [,4]     [,5]    \n",
       "[1,] 2.00000 2.449490 2.828427 3.162278 3.464102\n",
       "[2,] 2.44949 2.828427 3.162278 3.464102 3.741657"
      ]
     },
     "metadata": {},
     "output_type": "display_data"
    },
    {
     "data": {
      "text/html": [
       "'(14) log((sqrt(a+b)+a)*b):'"
      ],
      "text/latex": [
       "'(14) log((sqrt(a+b)+a)*b):'"
      ],
      "text/markdown": [
       "'(14) log((sqrt(a+b)+a)*b):'"
      ],
      "text/plain": [
       "[1] \"(14) log((sqrt(a+b)+a)*b):\""
      ]
     },
     "metadata": {},
     "output_type": "display_data"
    },
    {
     "data": {
      "text/html": [
       "<table>\n",
       "<tbody>\n",
       "\t<tr><td>2.197225</td><td>2.879084</td><td>3.372185</td><td>3.760588</td><td>4.081744</td></tr>\n",
       "\t<tr><td>2.879084</td><td>3.372185</td><td>3.760588</td><td>4.081744</td><td>4.355853</td></tr>\n",
       "</tbody>\n",
       "</table>\n"
      ],
      "text/latex": [
       "\\begin{tabular}{lllll}\n",
       "\t 2.197225 & 2.879084 & 3.372185 & 3.760588 & 4.081744\\\\\n",
       "\t 2.879084 & 3.372185 & 3.760588 & 4.081744 & 4.355853\\\\\n",
       "\\end{tabular}\n"
      ],
      "text/markdown": [
       "1. 2.19722457733622\n",
       "2. 2.87908378618045\n",
       "3. 2.87908378618045\n",
       "4. 3.37218508647319\n",
       "5. 3.37218508647319\n",
       "6. 3.76058750857675\n",
       "7. 3.76058750857675\n",
       "8. 4.0817440296684\n",
       "9. 4.0817440296684\n",
       "10. 4.35585280777135\n",
       "\n",
       "\n"
      ],
      "text/plain": [
       "     [,1]     [,2]     [,3]     [,4]     [,5]    \n",
       "[1,] 2.197225 2.879084 3.372185 3.760588 4.081744\n",
       "[2,] 2.879084 3.372185 3.760588 4.081744 4.355853"
      ]
     },
     "metadata": {},
     "output_type": "display_data"
    }
   ],
   "source": [
    "paste('(1) a:')\n",
    "a\n",
    "\n",
    "paste('(2) b:')\n",
    "b\n",
    "\n",
    "paste('(3) a > 0:')\n",
    "a > 0                # each value greater than zero?\n",
    "\n",
    "paste('(4) a == b:')\n",
    "a == b               # corresponding values equivalent?\n",
    "\n",
    "paste('(5) a != b:')\n",
    "a != b               # corresponding values not equivalent?\n",
    "\n",
    "paste('(6) !(a == b):')\n",
    "!(a == b)            # same as above\n",
    "\n",
    "paste(\"(7) OR:\") \n",
    "(a>2) | (b>4)        # the OR operator\n",
    "\n",
    "paste(\"(8) AND:\") \n",
    "(a>2) & (b>4)        # the AND operator\n",
    "\n",
    "paste(\"(9) double-pipe:\") \n",
    "(a>2) || (b>4)       # beware the \"double-pipe\"!\n",
    "\n",
    "paste(\"(10) double-ampersand:\") \n",
    "(a>2) && (b>4)       # (and the \"double-ampersand\"!)\n",
    "\n",
    "paste('(11) log(a):')\n",
    "log(a)\n",
    "\n",
    "paste('(12) log(b):')\n",
    "exp(b)\n",
    "\n",
    "paste('(13) sqrt(a+b):')\n",
    "sqrt(a+b)            # note that we can nest statements!\n",
    "\n",
    "paste('(14) log((sqrt(a+b)+a)*b):')\n",
    "log((sqrt(a+b)+a)*b) # as recursive as we wanna be"
   ]
  },
  {
   "cell_type": "markdown",
   "metadata": {},
   "source": [
    "<a id='4'></a>\n",
    "## 4. Data Frames"
   ]
  },
  {
   "cell_type": "code",
   "execution_count": 14,
   "metadata": {
    "collapsed": false
   },
   "outputs": [
    {
     "data": {
      "text/html": [
       "<table>\n",
       "<thead><tr><th scope=col>income</th><th scope=col>sane</th><th scope=col>name</th></tr></thead>\n",
       "<tbody>\n",
       "\t<tr><td>1    </td><td> TRUE</td><td>A    </td></tr>\n",
       "\t<tr><td>2    </td><td> TRUE</td><td>B    </td></tr>\n",
       "\t<tr><td>3    </td><td> TRUE</td><td>C    </td></tr>\n",
       "\t<tr><td>4    </td><td> TRUE</td><td>D    </td></tr>\n",
       "\t<tr><td>5    </td><td>FALSE</td><td>E    </td></tr>\n",
       "</tbody>\n",
       "</table>\n"
      ],
      "text/latex": [
       "\\begin{tabular}{r|lll}\n",
       " income & sane & name\\\\\n",
       "\\hline\n",
       "\t 1     &  TRUE & A    \\\\\n",
       "\t 2     &  TRUE & B    \\\\\n",
       "\t 3     &  TRUE & C    \\\\\n",
       "\t 4     &  TRUE & D    \\\\\n",
       "\t 5     & FALSE & E    \\\\\n",
       "\\end{tabular}\n"
      ],
      "text/plain": [
       "  income sane  name\n",
       "1 1       TRUE A   \n",
       "2 2       TRUE B   \n",
       "3 3       TRUE C   \n",
       "4 4       TRUE D   \n",
       "5 5      FALSE E   "
      ]
     },
     "metadata": {},
     "output_type": "display_data"
    },
    {
     "data": {
      "text/html": [
       "TRUE"
      ],
      "text/latex": [
       "TRUE"
      ],
      "text/markdown": [
       "TRUE"
      ],
      "text/plain": [
       "[1] TRUE"
      ]
     },
     "metadata": {},
     "output_type": "display_data"
    },
    {
     "data": {
      "text/html": [
       "B"
      ],
      "text/latex": [
       "B"
      ],
      "text/markdown": [
       "B"
      ],
      "text/plain": [
       "[1] B\n",
       "Levels: A B C D E"
      ]
     },
     "metadata": {},
     "output_type": "display_data"
    },
    {
     "data": {
      "text/html": [
       "<ol class=list-inline>\n",
       "\t<li>5</li>\n",
       "\t<li>10</li>\n",
       "\t<li>15</li>\n",
       "\t<li>20</li>\n",
       "\t<li>25</li>\n",
       "</ol>\n"
      ],
      "text/latex": [
       "\\begin{enumerate*}\n",
       "\\item 5\n",
       "\\item 10\n",
       "\\item 15\n",
       "\\item 20\n",
       "\\item 25\n",
       "\\end{enumerate*}\n"
      ],
      "text/markdown": [
       "1. 5\n",
       "2. 10\n",
       "3. 15\n",
       "4. 20\n",
       "5. 25\n",
       "\n",
       "\n"
      ],
      "text/plain": [
       "[1]  5 10 15 20 25"
      ]
     },
     "metadata": {},
     "output_type": "display_data"
    },
    {
     "data": {
      "text/html": [
       "<table>\n",
       "<thead><tr><th></th><th scope=col>income</th><th scope=col>sane</th><th scope=col>name</th></tr></thead>\n",
       "<tbody>\n",
       "\t<tr><th scope=row>2</th><td>2    </td><td> TRUE</td><td>B    </td></tr>\n",
       "\t<tr><th scope=row>3</th><td>3    </td><td> TRUE</td><td>C    </td></tr>\n",
       "\t<tr><th scope=row>4</th><td>4    </td><td> TRUE</td><td>D    </td></tr>\n",
       "\t<tr><th scope=row>5</th><td>5    </td><td>FALSE</td><td>E    </td></tr>\n",
       "</tbody>\n",
       "</table>\n"
      ],
      "text/latex": [
       "\\begin{tabular}{r|lll}\n",
       "  & income & sane & name\\\\\n",
       "\\hline\n",
       "\t2 & 2     &  TRUE & B    \\\\\n",
       "\t3 & 3     &  TRUE & C    \\\\\n",
       "\t4 & 4     &  TRUE & D    \\\\\n",
       "\t5 & 5     & FALSE & E    \\\\\n",
       "\\end{tabular}\n"
      ],
      "text/plain": [
       "  income sane  name\n",
       "2 2       TRUE B   \n",
       "3 3       TRUE C   \n",
       "4 4       TRUE D   \n",
       "5 5      FALSE E   "
      ]
     },
     "metadata": {},
     "output_type": "display_data"
    },
    {
     "data": {
      "text/html": [
       "<ol class=list-inline>\n",
       "\t<li>TRUE</li>\n",
       "\t<li>TRUE</li>\n",
       "\t<li>TRUE</li>\n",
       "\t<li>TRUE</li>\n",
       "\t<li>FALSE</li>\n",
       "</ol>\n"
      ],
      "text/latex": [
       "\\begin{enumerate*}\n",
       "\\item TRUE\n",
       "\\item TRUE\n",
       "\\item TRUE\n",
       "\\item TRUE\n",
       "\\item FALSE\n",
       "\\end{enumerate*}\n"
      ],
      "text/markdown": [
       "1. TRUE\n",
       "2. TRUE\n",
       "3. TRUE\n",
       "4. TRUE\n",
       "5. FALSE\n",
       "\n",
       "\n"
      ],
      "text/plain": [
       "[1]  TRUE  TRUE  TRUE  TRUE FALSE"
      ]
     },
     "metadata": {},
     "output_type": "display_data"
    },
    {
     "data": {
      "text/html": [
       "<table>\n",
       "<thead><tr><th scope=col>income</th><th scope=col>sane</th><th scope=col>name</th></tr></thead>\n",
       "<tbody>\n",
       "\t<tr><td>1    </td><td> TRUE</td><td>A    </td></tr>\n",
       "\t<tr><td>2    </td><td> TRUE</td><td>B    </td></tr>\n",
       "\t<tr><td>3    </td><td>FALSE</td><td>C    </td></tr>\n",
       "\t<tr><td>4    </td><td> TRUE</td><td>D    </td></tr>\n",
       "\t<tr><td>5    </td><td>FALSE</td><td>E    </td></tr>\n",
       "</tbody>\n",
       "</table>\n"
      ],
      "text/latex": [
       "\\begin{tabular}{r|lll}\n",
       " income & sane & name\\\\\n",
       "\\hline\n",
       "\t 1     &  TRUE & A    \\\\\n",
       "\t 2     &  TRUE & B    \\\\\n",
       "\t 3     & FALSE & C    \\\\\n",
       "\t 4     &  TRUE & D    \\\\\n",
       "\t 5     & FALSE & E    \\\\\n",
       "\\end{tabular}\n"
      ],
      "text/plain": [
       "  income sane  name\n",
       "1 1       TRUE A   \n",
       "2 2       TRUE B   \n",
       "3 3      FALSE C   \n",
       "4 4       TRUE D   \n",
       "5 5      FALSE E   "
      ]
     },
     "metadata": {},
     "output_type": "display_data"
    },
    {
     "data": {
      "text/html": [
       "B"
      ],
      "text/latex": [
       "B"
      ],
      "text/markdown": [
       "B"
      ],
      "text/plain": [
       "[1] B\n",
       "Levels: A B C D E"
      ]
     },
     "metadata": {},
     "output_type": "display_data"
    },
    {
     "data": {
      "text/html": [
       "'B'"
      ],
      "text/latex": [
       "'B'"
      ],
      "text/markdown": [
       "'B'"
      ],
      "text/plain": [
       "[1] \"B\""
      ]
     },
     "metadata": {},
     "output_type": "display_data"
    },
    {
     "data": {
      "text/html": [
       "<table>\n",
       "<thead><tr><th scope=col>income</th><th scope=col>sane</th><th scope=col>name</th></tr></thead>\n",
       "<tbody>\n",
       "\t<tr><td>1    </td><td> TRUE</td><td>A    </td></tr>\n",
       "\t<tr><td>2    </td><td> TRUE</td><td>B    </td></tr>\n",
       "\t<tr><td>3    </td><td> TRUE</td><td>C    </td></tr>\n",
       "\t<tr><td>4    </td><td> TRUE</td><td>D    </td></tr>\n",
       "\t<tr><td>5    </td><td>FALSE</td><td>E    </td></tr>\n",
       "</tbody>\n",
       "</table>\n"
      ],
      "text/latex": [
       "\\begin{tabular}{r|lll}\n",
       " income & sane & name\\\\\n",
       "\\hline\n",
       "\t 1     &  TRUE & A    \\\\\n",
       "\t 2     &  TRUE & B    \\\\\n",
       "\t 3     &  TRUE & C    \\\\\n",
       "\t 4     &  TRUE & D    \\\\\n",
       "\t 5     & FALSE & E    \\\\\n",
       "\\end{tabular}\n"
      ],
      "text/plain": [
       "  income sane  name\n",
       "1 1       TRUE A   \n",
       "2 2       TRUE B   \n",
       "3 3       TRUE C   \n",
       "4 4       TRUE D   \n",
       "5 5      FALSE E   "
      ]
     },
     "metadata": {},
     "output_type": "display_data"
    },
    {
     "data": {
      "text/html": [
       "'B'"
      ],
      "text/latex": [
       "'B'"
      ],
      "text/markdown": [
       "'B'"
      ],
      "text/plain": [
       "[1] \"B\""
      ]
     },
     "metadata": {},
     "output_type": "display_data"
    }
   ],
   "source": [
    "d <- data.frame(income=1:5,sane=c(T,T,T,T,F),name=LETTERS[1:5])\n",
    "d\n",
    "d[1,2]                                                          # acts a lot like a matrix!\n",
    "d[2,3]\n",
    "d[,1]*5\n",
    "d[-1,]\n",
    "d$sane                                                          # can use dollar sign notation\n",
    "d$sane[3]<-FALSE                                                # making changes\n",
    "d\n",
    "d[2,3]                                                          # shows factors for string values\n",
    "d$name <- LETTERS[1:5]                                          # eliminate evil factors by overwriting\n",
    "d[2,3]\n",
    "# If you want to do without factors\n",
    "d <- data.frame(income=1:5,sane=c(T,T,T,T,F),name=LETTERS[1:5],stringsAsFactors=FALSE)\n",
    "d\n",
    "d[2,3]"
   ]
  },
  {
   "cell_type": "code",
   "execution_count": 15,
   "metadata": {
    "collapsed": false
   },
   "outputs": [
    {
     "data": {
      "text/html": [
       "<table>\n",
       "<thead><tr><th scope=col>V1</th><th scope=col>V2</th></tr></thead>\n",
       "<tbody>\n",
       "\t<tr><td>1</td><td>2</td></tr>\n",
       "\t<tr><td>2</td><td>3</td></tr>\n",
       "\t<tr><td>3</td><td>4</td></tr>\n",
       "\t<tr><td>4</td><td>5</td></tr>\n",
       "\t<tr><td>5</td><td>6</td></tr>\n",
       "</tbody>\n",
       "</table>\n"
      ],
      "text/latex": [
       "\\begin{tabular}{r|ll}\n",
       " V1 & V2\\\\\n",
       "\\hline\n",
       "\t 1 & 2\\\\\n",
       "\t 2 & 3\\\\\n",
       "\t 3 & 4\\\\\n",
       "\t 4 & 5\\\\\n",
       "\t 5 & 6\\\\\n",
       "\\end{tabular}\n"
      ],
      "text/plain": [
       "  V1 V2\n",
       "1 1  2 \n",
       "2 2  3 \n",
       "3 3  4 \n",
       "4 4  5 \n",
       "5 5  6 "
      ]
     },
     "metadata": {},
     "output_type": "display_data"
    },
    {
     "data": {
      "text/html": [
       "TRUE"
      ],
      "text/latex": [
       "TRUE"
      ],
      "text/markdown": [
       "TRUE"
      ],
      "text/plain": [
       "[1] TRUE"
      ]
     },
     "metadata": {},
     "output_type": "display_data"
    },
    {
     "data": {
      "text/html": [
       "FALSE"
      ],
      "text/latex": [
       "FALSE"
      ],
      "text/markdown": [
       "FALSE"
      ],
      "text/plain": [
       "[1] FALSE"
      ]
     },
     "metadata": {},
     "output_type": "display_data"
    }
   ],
   "source": [
    "d <- as.data.frame(cbind(1:5,2:6)) # can create from matrices\n",
    "d\n",
    "is.data.frame(d)                   # how can we tell it's not a matrix?\n",
    "is.matrix(d)                       # the truth comes out"
   ]
  },
  {
   "cell_type": "markdown",
   "metadata": {},
   "source": [
    "<a id='5'></a>\n",
    "## 5. Build-In Data Sets & Elementary Visualizations"
   ]
  },
  {
   "cell_type": "code",
   "execution_count": 16,
   "metadata": {
    "collapsed": false
   },
   "outputs": [
    {
     "data": {
      "text/html": [
       "<table>\n",
       "<thead><tr><th></th><th scope=col>Murder</th><th scope=col>Assault</th><th scope=col>UrbanPop</th><th scope=col>Rape</th></tr></thead>\n",
       "<tbody>\n",
       "\t<tr><th scope=row>Alabama</th><td>13.2</td><td>236 </td><td>58  </td><td>21.2</td></tr>\n",
       "\t<tr><th scope=row>Alaska</th><td>10.0</td><td>263 </td><td>48  </td><td>44.5</td></tr>\n",
       "\t<tr><th scope=row>Arizona</th><td> 8.1</td><td>294 </td><td>80  </td><td>31.0</td></tr>\n",
       "\t<tr><th scope=row>Arkansas</th><td> 8.8</td><td>190 </td><td>50  </td><td>19.5</td></tr>\n",
       "\t<tr><th scope=row>California</th><td> 9.0</td><td>276 </td><td>91  </td><td>40.6</td></tr>\n",
       "\t<tr><th scope=row>Colorado</th><td> 7.9</td><td>204 </td><td>78  </td><td>38.7</td></tr>\n",
       "\t<tr><th scope=row>Connecticut</th><td> 3.3</td><td>110 </td><td>77  </td><td>11.1</td></tr>\n",
       "\t<tr><th scope=row>Delaware</th><td> 5.9</td><td>238 </td><td>72  </td><td>15.8</td></tr>\n",
       "\t<tr><th scope=row>Florida</th><td>15.4</td><td>335 </td><td>80  </td><td>31.9</td></tr>\n",
       "\t<tr><th scope=row>Georgia</th><td>17.4</td><td>211 </td><td>60  </td><td>25.8</td></tr>\n",
       "\t<tr><th scope=row>Hawaii</th><td> 5.3</td><td> 46 </td><td>83  </td><td>20.2</td></tr>\n",
       "\t<tr><th scope=row>Idaho</th><td> 2.6</td><td>120 </td><td>54  </td><td>14.2</td></tr>\n",
       "\t<tr><th scope=row>Illinois</th><td>10.4</td><td>249 </td><td>83  </td><td>24.0</td></tr>\n",
       "\t<tr><th scope=row>Indiana</th><td> 7.2</td><td>113 </td><td>65  </td><td>21.0</td></tr>\n",
       "\t<tr><th scope=row>Iowa</th><td> 2.2</td><td> 56 </td><td>57  </td><td>11.3</td></tr>\n",
       "\t<tr><th scope=row>Kansas</th><td> 6.0</td><td>115 </td><td>66  </td><td>18.0</td></tr>\n",
       "\t<tr><th scope=row>Kentucky</th><td> 9.7</td><td>109 </td><td>52  </td><td>16.3</td></tr>\n",
       "\t<tr><th scope=row>Louisiana</th><td>15.4</td><td>249 </td><td>66  </td><td>22.2</td></tr>\n",
       "\t<tr><th scope=row>Maine</th><td> 2.1</td><td> 83 </td><td>51  </td><td> 7.8</td></tr>\n",
       "\t<tr><th scope=row>Maryland</th><td>11.3</td><td>300 </td><td>67  </td><td>27.8</td></tr>\n",
       "\t<tr><th scope=row>Massachusetts</th><td> 4.4</td><td>149 </td><td>85  </td><td>16.3</td></tr>\n",
       "\t<tr><th scope=row>Michigan</th><td>12.1</td><td>255 </td><td>74  </td><td>35.1</td></tr>\n",
       "\t<tr><th scope=row>Minnesota</th><td> 2.7</td><td> 72 </td><td>66  </td><td>14.9</td></tr>\n",
       "\t<tr><th scope=row>Mississippi</th><td>16.1</td><td>259 </td><td>44  </td><td>17.1</td></tr>\n",
       "\t<tr><th scope=row>Missouri</th><td> 9.0</td><td>178 </td><td>70  </td><td>28.2</td></tr>\n",
       "\t<tr><th scope=row>Montana</th><td> 6.0</td><td>109 </td><td>53  </td><td>16.4</td></tr>\n",
       "\t<tr><th scope=row>Nebraska</th><td> 4.3</td><td>102 </td><td>62  </td><td>16.5</td></tr>\n",
       "\t<tr><th scope=row>Nevada</th><td>12.2</td><td>252 </td><td>81  </td><td>46.0</td></tr>\n",
       "\t<tr><th scope=row>New Hampshire</th><td> 2.1</td><td> 57 </td><td>56  </td><td> 9.5</td></tr>\n",
       "\t<tr><th scope=row>New Jersey</th><td> 7.4</td><td>159 </td><td>89  </td><td>18.8</td></tr>\n",
       "\t<tr><th scope=row>New Mexico</th><td>11.4</td><td>285 </td><td>70  </td><td>32.1</td></tr>\n",
       "\t<tr><th scope=row>New York</th><td>11.1</td><td>254 </td><td>86  </td><td>26.1</td></tr>\n",
       "\t<tr><th scope=row>North Carolina</th><td>13.0</td><td>337 </td><td>45  </td><td>16.1</td></tr>\n",
       "\t<tr><th scope=row>North Dakota</th><td> 0.8</td><td> 45 </td><td>44  </td><td> 7.3</td></tr>\n",
       "\t<tr><th scope=row>Ohio</th><td> 7.3</td><td>120 </td><td>75  </td><td>21.4</td></tr>\n",
       "\t<tr><th scope=row>Oklahoma</th><td> 6.6</td><td>151 </td><td>68  </td><td>20.0</td></tr>\n",
       "\t<tr><th scope=row>Oregon</th><td> 4.9</td><td>159 </td><td>67  </td><td>29.3</td></tr>\n",
       "\t<tr><th scope=row>Pennsylvania</th><td> 6.3</td><td>106 </td><td>72  </td><td>14.9</td></tr>\n",
       "\t<tr><th scope=row>Rhode Island</th><td> 3.4</td><td>174 </td><td>87  </td><td> 8.3</td></tr>\n",
       "\t<tr><th scope=row>South Carolina</th><td>14.4</td><td>279 </td><td>48  </td><td>22.5</td></tr>\n",
       "\t<tr><th scope=row>South Dakota</th><td> 3.8</td><td> 86 </td><td>45  </td><td>12.8</td></tr>\n",
       "\t<tr><th scope=row>Tennessee</th><td>13.2</td><td>188 </td><td>59  </td><td>26.9</td></tr>\n",
       "\t<tr><th scope=row>Texas</th><td>12.7</td><td>201 </td><td>80  </td><td>25.5</td></tr>\n",
       "\t<tr><th scope=row>Utah</th><td> 3.2</td><td>120 </td><td>80  </td><td>22.9</td></tr>\n",
       "\t<tr><th scope=row>Vermont</th><td> 2.2</td><td> 48 </td><td>32  </td><td>11.2</td></tr>\n",
       "\t<tr><th scope=row>Virginia</th><td> 8.5</td><td>156 </td><td>63  </td><td>20.7</td></tr>\n",
       "\t<tr><th scope=row>Washington</th><td> 4.0</td><td>145 </td><td>73  </td><td>26.2</td></tr>\n",
       "\t<tr><th scope=row>West Virginia</th><td> 5.7</td><td> 81 </td><td>39  </td><td> 9.3</td></tr>\n",
       "\t<tr><th scope=row>Wisconsin</th><td> 2.6</td><td> 53 </td><td>66  </td><td>10.8</td></tr>\n",
       "\t<tr><th scope=row>Wyoming</th><td> 6.8</td><td>161 </td><td>60  </td><td>15.6</td></tr>\n",
       "</tbody>\n",
       "</table>\n"
      ],
      "text/latex": [
       "\\begin{tabular}{r|llll}\n",
       "  & Murder & Assault & UrbanPop & Rape\\\\\n",
       "\\hline\n",
       "\tAlabama & 13.2 & 236  & 58   & 21.2\\\\\n",
       "\tAlaska & 10.0 & 263  & 48   & 44.5\\\\\n",
       "\tArizona &  8.1 & 294  & 80   & 31.0\\\\\n",
       "\tArkansas &  8.8 & 190  & 50   & 19.5\\\\\n",
       "\tCalifornia &  9.0 & 276  & 91   & 40.6\\\\\n",
       "\tColorado &  7.9 & 204  & 78   & 38.7\\\\\n",
       "\tConnecticut &  3.3 & 110  & 77   & 11.1\\\\\n",
       "\tDelaware &  5.9 & 238  & 72   & 15.8\\\\\n",
       "\tFlorida & 15.4 & 335  & 80   & 31.9\\\\\n",
       "\tGeorgia & 17.4 & 211  & 60   & 25.8\\\\\n",
       "\tHawaii &  5.3 &  46  & 83   & 20.2\\\\\n",
       "\tIdaho &  2.6 & 120  & 54   & 14.2\\\\\n",
       "\tIllinois & 10.4 & 249  & 83   & 24.0\\\\\n",
       "\tIndiana &  7.2 & 113  & 65   & 21.0\\\\\n",
       "\tIowa &  2.2 &  56  & 57   & 11.3\\\\\n",
       "\tKansas &  6.0 & 115  & 66   & 18.0\\\\\n",
       "\tKentucky &  9.7 & 109  & 52   & 16.3\\\\\n",
       "\tLouisiana & 15.4 & 249  & 66   & 22.2\\\\\n",
       "\tMaine &  2.1 &  83  & 51   &  7.8\\\\\n",
       "\tMaryland & 11.3 & 300  & 67   & 27.8\\\\\n",
       "\tMassachusetts &  4.4 & 149  & 85   & 16.3\\\\\n",
       "\tMichigan & 12.1 & 255  & 74   & 35.1\\\\\n",
       "\tMinnesota &  2.7 &  72  & 66   & 14.9\\\\\n",
       "\tMississippi & 16.1 & 259  & 44   & 17.1\\\\\n",
       "\tMissouri &  9.0 & 178  & 70   & 28.2\\\\\n",
       "\tMontana &  6.0 & 109  & 53   & 16.4\\\\\n",
       "\tNebraska &  4.3 & 102  & 62   & 16.5\\\\\n",
       "\tNevada & 12.2 & 252  & 81   & 46.0\\\\\n",
       "\tNew Hampshire &  2.1 &  57  & 56   &  9.5\\\\\n",
       "\tNew Jersey &  7.4 & 159  & 89   & 18.8\\\\\n",
       "\tNew Mexico & 11.4 & 285  & 70   & 32.1\\\\\n",
       "\tNew York & 11.1 & 254  & 86   & 26.1\\\\\n",
       "\tNorth Carolina & 13.0 & 337  & 45   & 16.1\\\\\n",
       "\tNorth Dakota &  0.8 &  45  & 44   &  7.3\\\\\n",
       "\tOhio &  7.3 & 120  & 75   & 21.4\\\\\n",
       "\tOklahoma &  6.6 & 151  & 68   & 20.0\\\\\n",
       "\tOregon &  4.9 & 159  & 67   & 29.3\\\\\n",
       "\tPennsylvania &  6.3 & 106  & 72   & 14.9\\\\\n",
       "\tRhode Island &  3.4 & 174  & 87   &  8.3\\\\\n",
       "\tSouth Carolina & 14.4 & 279  & 48   & 22.5\\\\\n",
       "\tSouth Dakota &  3.8 &  86  & 45   & 12.8\\\\\n",
       "\tTennessee & 13.2 & 188  & 59   & 26.9\\\\\n",
       "\tTexas & 12.7 & 201  & 80   & 25.5\\\\\n",
       "\tUtah &  3.2 & 120  & 80   & 22.9\\\\\n",
       "\tVermont &  2.2 &  48  & 32   & 11.2\\\\\n",
       "\tVirginia &  8.5 & 156  & 63   & 20.7\\\\\n",
       "\tWashington &  4.0 & 145  & 73   & 26.2\\\\\n",
       "\tWest Virginia &  5.7 &  81  & 39   &  9.3\\\\\n",
       "\tWisconsin &  2.6 &  53  & 66   & 10.8\\\\\n",
       "\tWyoming &  6.8 & 161  & 60   & 15.6\\\\\n",
       "\\end{tabular}\n"
      ],
      "text/plain": [
       "               Murder Assault UrbanPop Rape\n",
       "Alabama        13.2   236     58       21.2\n",
       "Alaska         10.0   263     48       44.5\n",
       "Arizona         8.1   294     80       31.0\n",
       "Arkansas        8.8   190     50       19.5\n",
       "California      9.0   276     91       40.6\n",
       "Colorado        7.9   204     78       38.7\n",
       "Connecticut     3.3   110     77       11.1\n",
       "Delaware        5.9   238     72       15.8\n",
       "Florida        15.4   335     80       31.9\n",
       "Georgia        17.4   211     60       25.8\n",
       "Hawaii          5.3    46     83       20.2\n",
       "Idaho           2.6   120     54       14.2\n",
       "Illinois       10.4   249     83       24.0\n",
       "Indiana         7.2   113     65       21.0\n",
       "Iowa            2.2    56     57       11.3\n",
       "Kansas          6.0   115     66       18.0\n",
       "Kentucky        9.7   109     52       16.3\n",
       "Louisiana      15.4   249     66       22.2\n",
       "Maine           2.1    83     51        7.8\n",
       "Maryland       11.3   300     67       27.8\n",
       "Massachusetts   4.4   149     85       16.3\n",
       "Michigan       12.1   255     74       35.1\n",
       "Minnesota       2.7    72     66       14.9\n",
       "Mississippi    16.1   259     44       17.1\n",
       "Missouri        9.0   178     70       28.2\n",
       "Montana         6.0   109     53       16.4\n",
       "Nebraska        4.3   102     62       16.5\n",
       "Nevada         12.2   252     81       46.0\n",
       "New Hampshire   2.1    57     56        9.5\n",
       "New Jersey      7.4   159     89       18.8\n",
       "New Mexico     11.4   285     70       32.1\n",
       "New York       11.1   254     86       26.1\n",
       "North Carolina 13.0   337     45       16.1\n",
       "North Dakota    0.8    45     44        7.3\n",
       "Ohio            7.3   120     75       21.4\n",
       "Oklahoma        6.6   151     68       20.0\n",
       "Oregon          4.9   159     67       29.3\n",
       "Pennsylvania    6.3   106     72       14.9\n",
       "Rhode Island    3.4   174     87        8.3\n",
       "South Carolina 14.4   279     48       22.5\n",
       "South Dakota    3.8    86     45       12.8\n",
       "Tennessee      13.2   188     59       26.9\n",
       "Texas          12.7   201     80       25.5\n",
       "Utah            3.2   120     80       22.9\n",
       "Vermont         2.2    48     32       11.2\n",
       "Virginia        8.5   156     63       20.7\n",
       "Washington      4.0   145     73       26.2\n",
       "West Virginia   5.7    81     39        9.3\n",
       "Wisconsin       2.6    53     66       10.8\n",
       "Wyoming         6.8   161     60       15.6"
      ]
     },
     "metadata": {},
     "output_type": "display_data"
    }
   ],
   "source": [
    "data()          # lists them all\n",
    "?USArrests      # get help on a data set\n",
    "data(USArrests) # load the data set\n",
    "USArrests       # view the object"
   ]
  },
  {
   "cell_type": "markdown",
   "metadata": {},
   "source": [
    "### Scatter Plots"
   ]
  },
  {
   "cell_type": "code",
   "execution_count": 17,
   "metadata": {
    "collapsed": false,
    "scrolled": true
   },
   "outputs": [
    {
     "data": {
      "image/png": "[encoded data removed]",
      "text/plain": [
       "plot without title"
      ]
     },
     "metadata": {},
     "output_type": "display_data"
    },
    {
     "data": {
      "image/png": "[encoded data removed]",
      "text/plain": [
       "plot without title"
      ]
     },
     "metadata": {},
     "output_type": "display_data"
    }
   ],
   "source": [
    "plot(USArrests$Murder,USArrests$UrbanPop) # using dollar sign notation to define colums (variables)\n",
    "plot(USArrests$Murder,USArrests$UrbanPop,log=\"xy\") # log-log scale"
   ]
  },
  {
   "cell_type": "markdown",
   "metadata": {},
   "source": [
    "### Plot Title and Axis Labels"
   ]
  },
  {
   "cell_type": "code",
   "execution_count": 18,
   "metadata": {
    "collapsed": false
   },
   "outputs": [
    {
     "data": {
      "image/png": "[encoded data removed]",
      "text/plain": [
       "Plot with title “USArrests”"
      ]
     },
     "metadata": {},
     "output_type": "display_data"
    }
   ],
   "source": [
    "plot(USArrests$Murder,USArrests$Assault,xlab=\"Murder\",ylab=\"Assault\",main=\"USArrests\")"
   ]
  },
  {
   "cell_type": "markdown",
   "metadata": {},
   "source": [
    "### Names of Points"
   ]
  },
  {
   "cell_type": "code",
   "execution_count": 19,
   "metadata": {
    "collapsed": false
   },
   "outputs": [
    {
     "data": {
      "image/png": "[encoded data removed]",
      "text/plain": [
       "Plot with title “USArrests”"
      ]
     },
     "metadata": {},
     "output_type": "display_data"
    }
   ],
   "source": [
    "plot(USArrests$Murder,USArrests$Assault,xlab=\"Murder\",ylab=\"Assault\", main=\"USArrests\",type=\"n\")\n",
    "text(USArrests$Murder,USArrests$Assault,rownames(USArrests))"
   ]
  },
  {
   "cell_type": "markdown",
   "metadata": {},
   "source": [
    "### Histograms and Boxplots"
   ]
  },
  {
   "cell_type": "code",
   "execution_count": 20,
   "metadata": {
    "collapsed": false
   },
   "outputs": [
    {
     "data": {
      "image/png": "[encoded data removed]",
      "text/plain": [
       "Plot with title “Histogram of USArrests$Murder”"
      ]
     },
     "metadata": {},
     "output_type": "display_data"
    },
    {
     "data": {
      "image/png": "[encoded data removed]",
      "text/plain": [
       "plot without title"
      ]
     },
     "metadata": {},
     "output_type": "display_data"
    }
   ],
   "source": [
    "hist(USArrests$Murder)\n",
    "boxplot(USArrests)"
   ]
  },
  {
   "cell_type": "code",
   "execution_count": null,
   "metadata": {
    "collapsed": true
   },
   "outputs": [],
   "source": []
  }
 ],
 "metadata": {
  "kernelspec": {
   "display_name": "R",
   "language": "R",
   "name": "ir"
  },
  "language_info": {
   "codemirror_mode": "r",
   "file_extension": ".r",
   "mimetype": "text/x-r-source",
   "name": "R",
   "pygments_lexer": "r",
   "version": "3.3.1"
  }
 },
 "nbformat": 4,
 "nbformat_minor": 0
}
